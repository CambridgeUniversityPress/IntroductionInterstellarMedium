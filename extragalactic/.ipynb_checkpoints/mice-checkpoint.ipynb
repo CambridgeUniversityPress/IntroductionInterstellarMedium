{
 "cells": [
  {
   "cell_type": "markdown",
   "metadata": {},
   "source": [
    "## Introduction to the Interstellar Medium\n",
    "### Jonathan Williams"
   ]
  },
  {
   "cell_type": "markdown",
   "metadata": {},
   "source": [
    "### Figure 11.4: HST image of the interacting galaxy pair NGC 4676 \"The Mice\" "
   ]
  },
  {
   "cell_type": "markdown",
   "metadata": {},
   "source": [
    "#### jpg from https://www.spacetelescope.org/images/heic0206b/"
   ]
  },
  {
   "cell_type": "code",
   "execution_count": 1,
   "metadata": {},
   "outputs": [],
   "source": [
    "import numpy as np\n",
    "import matplotlib.pyplot as plt\n",
    "import matplotlib.image as mpimg\n",
    "%matplotlib inline"
   ]
  },
  {
   "cell_type": "code",
   "execution_count": 2,
   "metadata": {},
   "outputs": [
    {
     "name": "stdout",
     "output_type": "stream",
     "text": [
      "(960, 1280, 3)\n"
     ]
    },
    {
     "ename": "NameError",
     "evalue": "name 'plt' is not defined",
     "output_type": "error",
     "traceback": [
      "\u001b[0;31m---------------------------------------------------------------------------\u001b[0m",
      "\u001b[0;31mNameError\u001b[0m                                 Traceback (most recent call last)",
      "\u001b[0;32m<ipython-input-2-c40e7da945c6>\u001b[0m in \u001b[0;36m<module>\u001b[0;34m()\u001b[0m\n\u001b[1;32m     14\u001b[0m \u001b[0mimg_i\u001b[0m \u001b[0;34m=\u001b[0m \u001b[0mimg\u001b[0m\u001b[0;34m[\u001b[0m\u001b[0mi1\u001b[0m\u001b[0;34m:\u001b[0m\u001b[0mi2\u001b[0m\u001b[0;34m,\u001b[0m \u001b[0mj1\u001b[0m\u001b[0;34m:\u001b[0m\u001b[0mj2\u001b[0m\u001b[0;34m,\u001b[0m \u001b[0;36m2\u001b[0m\u001b[0;34m]\u001b[0m\u001b[0;34m\u001b[0m\u001b[0m\n\u001b[1;32m     15\u001b[0m \u001b[0;34m\u001b[0m\u001b[0m\n\u001b[0;32m---> 16\u001b[0;31m \u001b[0mfig\u001b[0m \u001b[0;34m=\u001b[0m \u001b[0mplt\u001b[0m\u001b[0;34m.\u001b[0m\u001b[0mfigure\u001b[0m\u001b[0;34m(\u001b[0m\u001b[0mfigsize\u001b[0m\u001b[0;34m=\u001b[0m\u001b[0;34m(\u001b[0m\u001b[0;36m8\u001b[0m\u001b[0;34m,\u001b[0m\u001b[0;36m5\u001b[0m\u001b[0;34m)\u001b[0m\u001b[0;34m)\u001b[0m\u001b[0;34m\u001b[0m\u001b[0m\n\u001b[0m\u001b[1;32m     17\u001b[0m \u001b[0max\u001b[0m \u001b[0;34m=\u001b[0m \u001b[0mfig\u001b[0m\u001b[0;34m.\u001b[0m\u001b[0madd_subplot\u001b[0m\u001b[0;34m(\u001b[0m\u001b[0;36m111\u001b[0m\u001b[0;34m)\u001b[0m\u001b[0;34m\u001b[0m\u001b[0m\n\u001b[1;32m     18\u001b[0m \u001b[0max\u001b[0m\u001b[0;34m.\u001b[0m\u001b[0mset_xticks\u001b[0m\u001b[0;34m(\u001b[0m\u001b[0;34m[\u001b[0m\u001b[0;34m]\u001b[0m\u001b[0;34m)\u001b[0m\u001b[0;34m\u001b[0m\u001b[0m\n",
      "\u001b[0;31mNameError\u001b[0m: name 'plt' is not defined"
     ]
    }
   ],
   "source": [
    "img = mpimg.imread('mice_hst.jpg')\n",
    "# image is 3.21 x 2.41 arcminutes\n",
    "print(img.shape)\n",
    "# 960 x 1280\n",
    "# => 0.0025 arcmin / pixel\n",
    "# 100 pix = 6.472 kpc for d = 89 Mpc\n",
    "# use a scale bar of 10 kpc = 154 pix\n",
    "\n",
    "i1, i2 = 100, 860\n",
    "j1, j2 = 0, 1279\n",
    "\n",
    "img_b = img[i1:i2, j1:j2, 0]\n",
    "img_v = img[i1:i2, j1:j2, 1]\n",
    "img_i = img[i1:i2, j1:j2, 2]\n",
    "\n",
    "fig = plt.figure(figsize=(8,5))\n",
    "ax = fig.add_subplot(111)\n",
    "ax.set_xticks([])\n",
    "ax.set_yticks([])\n",
    "\n",
    "# scale bar\n",
    "xbar = 154\n",
    "x0 = 1070\n",
    "x1 = x0 + xbar\n",
    "y0 = 700\n",
    "dy = 8\n",
    "ax.plot([x0,x1],[y0,y0], 'w-', lw=2)\n",
    "ax.plot([x0,x0],[y0-dy,y0+dy], 'w-', lw=2)\n",
    "ax.plot([x1,x1],[y0-dy,y0+dy], 'w-', lw=2)\n",
    "ax.text(0.5*(x0+x1), y0-1.5*dy, '10 kpc', color='white', fontsize=14, ha='center')\n",
    "\n",
    "#ax.imshow(img_b, cmap='gist_gray')\n",
    "#ax.text(0.04,0.92,'475 nm', {'color': 'w', 'fontsize': 16}, transform=ax.transAxes)\n",
    "\n",
    "#ax.imshow(img_v, cmap='gist_gray')\n",
    "#ax.text(0.04,0.92,'606 nm', {'color': 'w', 'fontsize': 16}, transform=ax.transAxes)\n",
    "\n",
    "ax.imshow(img_i, cmap='gist_gray')\n",
    "ax.text(0.04,0.92,'804 nm', {'color': 'w', 'fontsize': 16}, transform=ax.transAxes)\n",
    "\n",
    "plt.tight_layout()\n",
    "plt.savefig('mice.pdf')"
   ]
  },
  {
   "cell_type": "code",
   "execution_count": null,
   "metadata": {},
   "outputs": [],
   "source": []
  }
 ],
 "metadata": {
  "kernelspec": {
   "display_name": "Python 3",
   "language": "python",
   "name": "python3"
  },
  "language_info": {
   "codemirror_mode": {
    "name": "ipython",
    "version": 3
   },
   "file_extension": ".py",
   "mimetype": "text/x-python",
   "name": "python",
   "nbconvert_exporter": "python",
   "pygments_lexer": "ipython3",
   "version": "3.6.4"
  }
 },
 "nbformat": 4,
 "nbformat_minor": 4
}
