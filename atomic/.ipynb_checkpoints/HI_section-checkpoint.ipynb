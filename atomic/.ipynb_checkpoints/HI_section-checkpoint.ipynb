{
 "cells": [
  {
   "cell_type": "markdown",
   "metadata": {},
   "source": [
    "## Introduction to the Interstellar Medium\n",
    "### Jonathan Williams"
   ]
  },
  {
   "cell_type": "markdown",
   "metadata": {},
   "source": [
    "### Figure 5.2: Velocity slice from the HI4PI survey with inlet spectrum"
   ]
  },
  {
   "cell_type": "markdown",
   "metadata": {},
   "source": [
    "#### uses fits file downloaded from HI4PI vizier (http://cdsarc.u-strasbg.fr/viz-bin/qcat?J/A+A/594/A116)"
   ]
  },
  {
   "cell_type": "code",
   "execution_count": 4,
   "metadata": {},
   "outputs": [],
   "source": [
    "import numpy as np\n",
    "import matplotlib.pyplot as plt\n",
    "import matplotlib as mpl\n",
    "from astropy.io import fits\n",
    "%matplotlib inline"
   ]
  },
  {
   "cell_type": "code",
   "execution_count": 5,
   "metadata": {},
   "outputs": [],
   "source": [
    "from astropy.utils.data import download_file"
   ]
  },
  {
   "cell_type": "code",
   "execution_count": 6,
   "metadata": {},
   "outputs": [],
   "source": [
    "# download 256 Mbyte file which is too big to be allowed in the github repo\n",
    "# this could take a few minutes\n",
    "# (unfortunately the progress bar does not show in the notebook)\n",
    "HI_cube = download_file('http://cdsarc.u-strasbg.fr/ftp/J/A+A/594/A116/CUBES/GAL/CAR/CAR_E03.fits', show_progress=True, cache=True )"
   ]
  },
  {
   "cell_type": "code",
   "execution_count": 7,
   "metadata": {},
   "outputs": [],
   "source": [
    "# read in data if you have it in your directory\n",
    "HI_cube = fits.open('CAR_E03.fits')"
   ]
  },
  {
   "cell_type": "code",
   "execution_count": 8,
   "metadata": {},
   "outputs": [
    {
     "ename": "NameError",
     "evalue": "name 'hdu' is not defined",
     "output_type": "error",
     "traceback": [
      "\u001b[0;31m---------------------------------------------------------------------------\u001b[0m",
      "\u001b[0;31mNameError\u001b[0m                                 Traceback (most recent call last)",
      "\u001b[0;32m<ipython-input-8-9fd898b8707e>\u001b[0m in \u001b[0;36m<module>\u001b[0;34m()\u001b[0m\n\u001b[1;32m      2\u001b[0m \u001b[0;34m\u001b[0m\u001b[0m\n\u001b[1;32m      3\u001b[0m \u001b[0max1\u001b[0m \u001b[0;34m=\u001b[0m \u001b[0mfig\u001b[0m\u001b[0;34m.\u001b[0m\u001b[0madd_subplot\u001b[0m\u001b[0;34m(\u001b[0m\u001b[0;36m111\u001b[0m\u001b[0;34m)\u001b[0m\u001b[0;34m\u001b[0m\u001b[0m\n\u001b[0;32m----> 4\u001b[0;31m \u001b[0mim\u001b[0m \u001b[0;34m=\u001b[0m \u001b[0mhdu\u001b[0m\u001b[0;34m[\u001b[0m\u001b[0;36m0\u001b[0m\u001b[0;34m]\u001b[0m\u001b[0;34m.\u001b[0m\u001b[0mdata\u001b[0m\u001b[0;34m\u001b[0m\u001b[0m\n\u001b[0m\u001b[1;32m      5\u001b[0m \u001b[0mhd\u001b[0m \u001b[0;34m=\u001b[0m \u001b[0mhdu\u001b[0m\u001b[0;34m[\u001b[0m\u001b[0;36m0\u001b[0m\u001b[0;34m]\u001b[0m\u001b[0;34m.\u001b[0m\u001b[0mheader\u001b[0m\u001b[0;34m\u001b[0m\u001b[0m\n\u001b[1;32m      6\u001b[0m \u001b[0mhdu\u001b[0m\u001b[0;34m.\u001b[0m\u001b[0mclose\u001b[0m\u001b[0;34m(\u001b[0m\u001b[0;34m)\u001b[0m\u001b[0;34m\u001b[0m\u001b[0m\n",
      "\u001b[0;31mNameError\u001b[0m: name 'hdu' is not defined"
     ]
    },
    {
     "data": {
      "image/png": "[encoded data removed]",
      "text/plain": [
       "<Figure size 720x522 with 1 Axes>"
      ]
     },
     "metadata": {},
     "output_type": "display_data"
    }
   ],
   "source": [
    "fig = plt.figure(figsize=(10,7.25))\n",
    "\n",
    "ax1 = fig.add_subplot(111)\n",
    "im = hdu[0].data\n",
    "hd = hdu[0].header\n",
    "hdu.close()\n",
    "\n",
    "# create vectors for each axis\n",
    "i = 1 + np.arange(hd['NAXIS1'])\n",
    "lon = hd['CRVAL1'] + (i - hd['CRPIX1']) * hd['CDELT1']\n",
    "j = 1 + np.arange(hd['NAXIS2'])\n",
    "lat = hd['CRVAL2'] + (i - hd['CRPIX2']) * hd['CDELT2']\n",
    "k = 1 + np.arange(hd['NAXIS3'])\n",
    "v = hd['CRVAL3'] + (k - hd['CRPIX3']) * hd['CDELT3']\n",
    "# convert to km/s\n",
    "v /= 1000\n",
    "\n",
    "# manually crop image\n",
    "imin,imax = 13, 251\n",
    "#print(lon[imin],lon[imax])\n",
    "jmin, jmax = 42, 212\n",
    "#print(lat[jmin],lat[jmax])\n",
    "\n",
    "# choose a velocity channel (or range to integrate over)\n",
    "# -100 to +100 km/s\n",
    "#kmin, kmax = 387, 544\n",
    "#print(v[kmin], v[kmax])\n",
    "kslice = 489\n",
    "vslice = v[kslice]\n",
    "#print(vslice)\n",
    "\n",
    "#im_section = np.sum(im[kmin:kmax+1, jmin:jmax+1, imin:imax+1], axis=0)\n",
    "im_section = np.sum(im[kslice:kslice+1, jmin:jmax+1, imin:imax+1], axis=0)\n",
    "#print(im_section.min(), im_section.max())\n",
    "ax1.imshow(im_section, vmin=15, vmax=105, cmap='gray', origin='lower')\n",
    "ax1.tick_params(axis='both', which='both', length=0)\n",
    "plt.setp(ax1.get_xticklabels(), visible=False)\n",
    "plt.setp(ax1.get_yticklabels(), visible=False)\n",
    "\n",
    "# scale bar\n",
    "dx = hd['CDELT1']\n",
    "#print(dx)\n",
    "# 12 pixels per degree\n",
    "xbar = 24\n",
    "x0 = 200\n",
    "x1 = x0 + xbar\n",
    "y0 = 10\n",
    "dy = 1.5\n",
    "ax1.set_xlim(0,imax-imin-1)\n",
    "ax1.set_ylim(0,jmax-jmin-1)\n",
    "ax1.plot([x0,x1],[y0,y0], 'w-', lw=2)\n",
    "ax1.plot([x0,x0],[y0-dy,y0+dy], 'w-', lw=2)\n",
    "ax1.plot([x1,x1],[y0-dy,y0+dy], 'w-', lw=2)\n",
    "mpl.rc('text', usetex=True)\n",
    "mpl.rcParams['text.latex.preamble']=[r\"\\usepackage{amsmath}\"]\n",
    "ax1.text(0.5*(x0+x1), y0+1.5*dy, r'$\\boldsymbol{2^\\circ}$', color='white', fontsize=18, fontweight='heavy', ha='center')\n",
    "ax1.text(0.04,0.92,'HI 21cm', {'color': 'w', 'fontsize': 24}, transform=ax1.transAxes)\n",
    "\n",
    "# inset spectrum\n",
    "# -200 to +200 km/s\n",
    "kmin, kmax = 335, 595\n",
    "kmin, kmax = 363, 567\n",
    "v1 = v[kmin:kmax+1]\n",
    "TB = np.mean(im[kmin:kmax+1, jmin:jmax+1, imin:imax+1], axis=(1,2))\n",
    "ax2 = fig.add_axes([0.11,0.12,0.32,0.25])\n",
    "ax2.plot(v1,TB,'w',lw=2)\n",
    "ax2.plot([vslice, vslice],[-5,TB[kslice-kmin]], 'w:', lw=2)\n",
    "ax2.tick_params(axis='both', which='both', color='white', labelcolor='white')\n",
    "ax2.set_xlim(-140,140)\n",
    "ax2.set_ylim(-5,65)\n",
    "ax2.set_xlabel(r'$v (km/s)$', color='white', fontsize=14)\n",
    "ax2.set_ylabel(r'$T_B (K)$', color='white', fontsize=14)\n",
    "for spine in ax2.spines.values():\n",
    "    spine.set_edgecolor('white')\n",
    "ax2.patch.set_alpha(0)\n",
    "\n",
    "plt.tight_layout()\n",
    "plt.show()"
   ]
  },
  {
   "cell_type": "code",
   "execution_count": null,
   "metadata": {},
   "outputs": [],
   "source": []
  }
 ],
 "metadata": {
  "kernelspec": {
   "display_name": "Python 3",
   "language": "python",
   "name": "python3"
  },
  "language_info": {
   "codemirror_mode": {
    "name": "ipython",
    "version": 3
   },
   "file_extension": ".py",
   "mimetype": "text/x-python",
   "name": "python",
   "nbconvert_exporter": "python",
   "pygments_lexer": "ipython3",
   "version": "3.6.4"
  }
 },
 "nbformat": 4,
 "nbformat_minor": 4
}
