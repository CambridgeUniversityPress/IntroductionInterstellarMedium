{
 "cells": [
  {
   "cell_type": "markdown",
   "metadata": {},
   "source": [
    "## Introduction to the Interstellar Medium\n",
    "### Jonathan Williams"
   ]
  },
  {
   "cell_type": "markdown",
   "metadata": {},
   "source": [
    "### Figure 5.12: ISM element abundance as a function of condensation temperature"
   ]
  },
  {
   "cell_type": "code",
   "execution_count": 23,
   "metadata": {},
   "outputs": [],
   "source": [
    "import numpy as np\n",
    "import matplotlib.pyplot as plt\n",
    "import matplotlib.ticker\n",
    "%matplotlib inline"
   ]
  },
  {
   "cell_type": "code",
   "execution_count": null,
   "metadata": {},
   "outputs": [],
   "source": [
    "f = open('savage_sembach_table5.txt','r')\n",
    "header1 = f.readline()\n",
    "header2 = f.readline()\n",
    "element = []\n",
    "Xsolar = []\n",
    "Tcond = []\n",
    "deltaX = []\n",
    "deltaX_lo = []\n",
    "deltaX_hi = []\n",
    "for line in f:\n",
    "    columns = line.split()\n",
    "    element.append(columns[0])\n",
    "    Xsolar.append(float(columns[1]))\n",
    "    Tcond.append(float(columns[2]))\n",
    "    deltaX.append(float(columns[3]))\n",
    "    deltaX_hi.append(float(columns[4]))\n",
    "    deltaX_lo.append(float(columns[5]))\n",
    "f.close()\n",
    "Xsolar = np.asarray(Xsolar)\n",
    "Tcond = np.asarray(Tcond)\n",
    "deltaX = np.asarray(deltaX)\n",
    "deltaX_lo = np.asarray(deltaX_lo)\n",
    "deltaX_hi = np.asarray(deltaX_hi)\n",
    "\n",
    "fig = plt.figure(figsize=(6,4))\n",
    "ax = fig.add_subplot(111)\n",
    "\n",
    "ax.set_xlim(-50,1650.0)\n",
    "ax.set_ylim(0.0001, 9.9)\n",
    "ax.set_yscale(\"log\", nonposy='clip')\n",
    "ax.set_xlabel(r'Condensation Temperature (K)', fontsize=14)\n",
    "ax.set_ylabel(r'$[X/H] / [X/H]_\\odot$', fontsize=14)\n",
    "\n",
    "arrow = u'$\\u2193$'\n",
    "for i, e in enumerate(element):\n",
    "    x = Tcond[i]\n",
    "    logy = deltaX[i]\n",
    "    y = 10**logy\n",
    "    ylo = deltaX_lo[i]\n",
    "    if ylo < 99:\n",
    "        yerr1 = 10**(logy - ylo)\n",
    "        yerr2 = 10**(logy + deltaX_hi[i])\n",
    "        ax.errorbar(x, y, yerr=y-yerr1, color='k', marker='o', markersize=5)\n",
    "    else:\n",
    "        ax.plot(x, y, color='k', marker=arrow, markersize=10)\n",
    "    if (e=='Ar' or e=='S' or e=='Ga' or e=='Mn' or e=='Na' or e=='Cr' or e=='Co'):\n",
    "        ax.text(x-10, 1.05*y, e, ha='right')\n",
    "    else:\n",
    "        ax.text(x+10, 1.05*y, e, ha='left')\n",
    "plt.plot([-50,1650], [1,1], 'k:', lw=1)\n",
    "\n",
    "# power law eyeball fit\n",
    "xmin = 500\n",
    "xmax = 1600\n",
    "x = np.arange(xmin, xmax, 10)\n",
    "p = 2\n",
    "yscale = 4\n",
    "logy = -yscale * ((x-xmin)/(xmax-xmin))**p\n",
    "plt.plot(x, 10**logy, color='gray', linestyle='solid', lw=10, alpha=0.3, zorder=99)\n",
    "\n",
    "# nicer y axis labels\n",
    "#ax.set_yticks([3,5,10,20,30])\n",
    "#ax.get_yaxis().set_major_formatter(matplotlib.ticker.ScalarFormatter())\n",
    "#ax.get_yaxis().set_tick_params(which='minor', size=0)\n",
    "#ax.get_yaxis().set_tick_params(which='minor', width=0) \n",
    "\n",
    "fig.tight_layout()\n",
    "plt.show()"
   ]
  }
 ],
 "metadata": {
  "kernelspec": {
   "display_name": "Python 3",
   "language": "python",
   "name": "python3"
  },
  "language_info": {
   "codemirror_mode": {
    "name": "ipython",
    "version": 3
   },
   "file_extension": ".py",
   "mimetype": "text/x-python",
   "name": "python",
   "nbconvert_exporter": "python",
   "pygments_lexer": "ipython3",
   "version": "3.6.4"
  }
 },
 "nbformat": 4,
 "nbformat_minor": 4
}
