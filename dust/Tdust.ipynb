{
 "cells": [
  {
   "cell_type": "markdown",
   "metadata": {},
   "source": [
    "## Introduction to the Interstellar Medium\n",
    "### Jonathan Williams"
   ]
  },
  {
   "cell_type": "markdown",
   "metadata": {},
   "source": [
    "### Figure 4.8: Equilibrium dust temperature as a function of grain size\n",
    "#### (note this differs from the published figure slightly due to the use of a different solver)"
   ]
  },
  {
   "cell_type": "markdown",
   "metadata": {},
   "source": [
    "#### uses miepython.py from https://pypi.org/project/miepython/"
   ]
  },
  {
   "cell_type": "code",
   "execution_count": 167,
   "metadata": {},
   "outputs": [],
   "source": [
    "import numpy as np\n",
    "import matplotlib.pyplot as plt\n",
    "import matplotlib.ticker\n",
    "from astropy import units as u\n",
    "from astropy import constants as c\n",
    "from astropy.modeling.models import BlackBody\n",
    "from scipy.optimize import fsolve\n",
    "%matplotlib inline"
   ]
  },
  {
   "cell_type": "code",
   "execution_count": 168,
   "metadata": {},
   "outputs": [
    {
     "name": "stdout",
     "output_type": "stream",
     "text": [
      "Requirement already satisfied: miepython in /anaconda/lib/python3.6/site-packages (1.1.0)\n",
      "Requirement already satisfied: numpy in /anaconda/lib/python3.6/site-packages (from miepython) (1.17.2)\n"
     ]
    }
   ],
   "source": [
    "import sys\n",
    "!{sys.executable} -m pip install miepython\n",
    "import miepython as mp"
   ]
  },
  {
   "cell_type": "code",
   "execution_count": 169,
   "metadata": {},
   "outputs": [],
   "source": [
    "def qabs(m,x):\n",
    "    qext, qsca, qback, g = mp.mie(m,2*np.pi*x)\n",
    "    return(qext - qsca)"
   ]
  },
  {
   "cell_type": "code",
   "execution_count": 210,
   "metadata": {},
   "outputs": [],
   "source": [
    "def Tdust(L=1,d=1):\n",
    "    # L in solar units\n",
    "    # d in parsecs\n",
    "    G = (L*u.L_sun)/(4*np.pi * (d*u.pc)**2)\n",
    "    G4pi = (G/(4*np.pi*u.sr)).cgs.value\n",
    "\n",
    "    # Habing field\n",
    "    G0 = 1.6e-3 * u.erg / u.s / (u.cm)**2\n",
    "    T_bb = (L*u.L_sun/(16*np.pi*c.sigma_sb*(d*u.pc)**2))**0.25\n",
    "    print(\"Radiation field = {0:5.2f} Habings\".format((G/G0).cgs))\n",
    "    print(\"Blackbody temperature = {0:5.2f}\".format(T_bb.cgs))\n",
    "    \n",
    "    # cosmic background (adds to grain temperature illuminated by starlight)\n",
    "    T_cbr = 2.73\n",
    "\n",
    "    # fairly coarse wavelength range for integration\n",
    "    wl = np.logspace(0.5,3.5,num=30)[::-1] * u.micron\n",
    "    nu = c.c/wl\n",
    "\n",
    "    # particle size\n",
    "    a = np.logspace(-2,4,num=30) * u.micron\n",
    "    Td = np.zeros(a.size)\n",
    "\n",
    "    # index of refraction\n",
    "    m = 1.3 - 0.05j\n",
    "\n",
    "    # for each grain size, calculate qabs(a/lambda), integrate over emission, and find equilibrium temperature\n",
    "    for j,a1 in enumerate(a):\n",
    "        x = (a1/wl).value\n",
    "        q = np.where(x<5, qabs(m,x), 1)\n",
    "        \n",
    "        # we need to find the zero of this equation\n",
    "        f = lambda y: (np.trapz(BlackBody(temperature=y*u.K)(nu)*q, nu).cgs.value/G4pi - 1)\n",
    "        Tsolve = fsolve(f, 10.0)\n",
    "        print(\"{0:.3f} {1:5.2f}K\".format(a1, Tsolve[0]))\n",
    "        \n",
    "        # add cosmic background\n",
    "        Td[j] = T_cbr + Tsolve\n",
    "\n",
    "    fig = plt.figure(figsize=(6,4))\n",
    "    ax = fig.add_subplot(111)\n",
    "\n",
    "    ax.plot(a, Td, 'k', lw=3)\n",
    "    ax.set_xlim(0.01,10000.0)\n",
    "    ax.set_ylim(3,30.0)\n",
    "    ax.set_xscale(\"log\", nonposx='clip')\n",
    "    ax.set_yscale(\"log\", nonposy='clip')\n",
    "    ax.set_xlabel(r'$a\\ (\\mu m)$', fontsize=16)\n",
    "    ax.set_ylabel(r'$T_{gr}\\ (K)$', fontsize=16)\n",
    "\n",
    "    # nicer y axis labels\n",
    "    ax.set_yticks([3,4,6,10,20,30])\n",
    "    ax.get_yaxis().set_major_formatter(matplotlib.ticker.ScalarFormatter())\n",
    "    ax.get_yaxis().set_tick_params(which='minor', size=0)\n",
    "    ax.get_yaxis().set_tick_params(which='minor', width=0)\n",
    "    \n",
    "    plt.savefig('Tdust.pdf')"
   ]
  },
  {
   "cell_type": "code",
   "execution_count": 213,
   "metadata": {},
   "outputs": [
    {
     "name": "stdout",
     "output_type": "stream",
     "text": [
      "Radiation field =  1.00 Habings\n",
      "Blackbody temperature =  1.63 K\n",
      "0.010 micron 20.53K\n",
      "0.016 micron 18.66K\n",
      "0.026 micron 16.96K\n",
      "0.042 micron 15.42K\n",
      "0.067 micron 14.02K\n",
      "0.108 micron 12.75K\n",
      "0.174 micron 11.59K\n",
      "0.281 micron 10.54K\n",
      "0.452 micron  9.58K\n",
      "0.728 micron  8.71K\n",
      "1.172 micron  7.92K\n",
      "1.887 micron  7.20K\n"
     ]
    },
    {
     "name": "stderr",
     "output_type": "stream",
     "text": [
      "/anaconda/lib/python3.6/site-packages/astropy/units/quantity.py:477: RuntimeWarning: overflow encountered in multiply\n",
      "  result = super().__array_ufunc__(function, method, *arrays, **kwargs)\n"
     ]
    },
    {
     "name": "stdout",
     "output_type": "stream",
     "text": [
      "3.039 micron  6.54K\n"
     ]
    },
    {
     "name": "stderr",
     "output_type": "stream",
     "text": [
      "/anaconda/lib/python3.6/site-packages/astropy/units/quantity.py:477: RuntimeWarning: overflow encountered in expm1\n",
      "  result = super().__array_ufunc__(function, method, *arrays, **kwargs)\n"
     ]
    },
    {
     "name": "stdout",
     "output_type": "stream",
     "text": [
      "4.894 micron  5.95K\n",
      "7.880 micron  5.41K\n",
      "12.690 micron  4.91K\n",
      "20.434 micron  4.46K\n",
      "32.903 micron  4.05K\n",
      "52.983 micron  3.66K\n",
      "85.317 micron  3.30K\n",
      "137.382 micron  2.97K\n",
      "221.222 micron  2.68K\n",
      "356.225 micron  2.42K\n",
      "573.615 micron  2.20K\n",
      "923.671 micron  2.03K\n",
      "1487.352 micron  1.90K\n",
      "2395.027 micron  1.81K\n",
      "3856.620 micron  1.75K\n",
      "6210.169 micron  1.74K\n",
      "10000.000 micron  1.76K\n"
     ]
    },
    {
     "data": {
      "image/png": "[encoded data removed]",
      "text/plain": [
       "<Figure size 432x288 with 1 Axes>"
      ]
     },
     "metadata": {},
     "output_type": "display_data"
    }
   ],
   "source": [
    "# one Habing field\n",
    "Tdust(50,1)\n",
    "\n",
    "# ten Habing fields\n",
    "#Tdust(500,1)"
   ]
  },
  {
   "cell_type": "code",
   "execution_count": null,
   "metadata": {},
   "outputs": [],
   "source": []
  }
 ],
 "metadata": {
  "kernelspec": {
   "display_name": "Python 3",
   "language": "python",
   "name": "python3"
  },
  "language_info": {
   "codemirror_mode": {
    "name": "ipython",
    "version": 3
   },
   "file_extension": ".py",
   "mimetype": "text/x-python",
   "name": "python",
   "nbconvert_exporter": "python",
   "pygments_lexer": "ipython3",
   "version": "3.6.4"
  }
 },
 "nbformat": 4,
 "nbformat_minor": 4
}
