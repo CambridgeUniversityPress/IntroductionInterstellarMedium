{
 "cells": [
  {
   "cell_type": "markdown",
   "metadata": {},
   "source": [
    "## Introduction to the Interstellar Medium\n",
    "### Jonathan Williams"
   ]
  },
  {
   "cell_type": "markdown",
   "metadata": {},
   "source": [
    "### Figure 4.2: Extinction curve"
   ]
  },
  {
   "cell_type": "markdown",
   "metadata": {},
   "source": [
    "#### uses extcurve_s16.py and cubicspline.py from https://faun.rc.fas.harvard.edu/eschlafly/apored/extcurve.html"
   ]
  },
  {
   "cell_type": "code",
   "execution_count": 12,
   "metadata": {},
   "outputs": [],
   "source": [
    "import numpy as np\n",
    "import matplotlib.pyplot as plt\n",
    "%matplotlib inline"
   ]
  },
  {
   "cell_type": "code",
   "execution_count": 13,
   "metadata": {},
   "outputs": [],
   "source": [
    "import extcurve_s16"
   ]
  },
  {
   "cell_type": "code",
   "execution_count": 15,
   "metadata": {},
   "outputs": [
    {
     "name": "stdout",
     "output_type": "stream",
     "text": [
      "R_V = 3.3 power law index = -1.76\n",
      "R_V = 3.6 power law index = -1.72\n",
      "R_V = 3.0 power law index = -1.79\n"
     ]
    },
    {
     "data": {
      "image/png": "[encoded data removed]",
      "text/plain": [
       "<Figure size 432x288 with 1 Axes>"
      ]
     },
     "metadata": {},
     "output_type": "display_data"
    }
   ],
   "source": [
    "fig = plt.figure(figsize=(6,4))\n",
    "ax1 = fig.add_subplot(1,1,1)\n",
    "#ax1.set_xlabel('$\\lambda$ (nm)', fontsize=16)\n",
    "ax1.set_xlabel('$\\lambda\\ (\\mu m)$', fontsize=16)\n",
    "ax1.set_ylabel('$A(\\lambda)/A_K$', fontsize=16)\n",
    "#ax1.set_xlim(350,2500)\n",
    "ax1.set_xlim(0.350,2.500)\n",
    "#ax1.set_ylim(0,1.3)\n",
    "ax1.set_ylim(0,15)\n",
    "\n",
    "lam = np.linspace(500,2500, 100)\n",
    "lam_ext = np.linspace(350,500, 10)\n",
    "oir = np.nonzero((lam > 500) & (lam < 3000))\n",
    "\n",
    "ec = extcurve_s16.extcurve(0.0)\n",
    "#f = ec(5420)/ec(5510)\n",
    "f = ec(5420)/ec(21900)\n",
    "x = np.log10(lam)\n",
    "y = f*ec(10*lam)\n",
    "w = 500/lam[oir]\n",
    "w = lam[oir] * 0 + 1\n",
    "a,b = np.polyfit(x[oir],np.log10(y[oir]),1,w=w)\n",
    "print(\"R_V = 3.3 power law index = {0:4.2f}\".format(a))\n",
    "#ax1.plot(10**x,10**(a*x+b),'r-')\n",
    "#ax1.plot(lam, y, 'k-', lw=2)\n",
    "#ax1.plot(lam_ext, f*ec(10*lam_ext), 'k:', lw=2)\n",
    "ax1.plot(lam/1000, y, 'k-', lw=2)\n",
    "ax1.plot(lam_ext/1000, f*ec(10*lam_ext), 'k:', lw=2)\n",
    "\n",
    "ec = extcurve_s16.extcurve(0.04)\n",
    "#f = ec(5420)/ec(5510)\n",
    "f = ec(5420)/ec(21900)\n",
    "y = f*ec(10*lam)\n",
    "a,b = np.polyfit(x[oir],np.log10(y[oir]),1,w=w)\n",
    "print(\"R_V = 3.6 power law index = {0:4.2f}\".format(a))\n",
    "#ax1.plot(10**x,10**(a*x+b),'r-')\n",
    "#ax1.plot(lam, f*ec(10*lam), 'k-', lw=0.5)\n",
    "#ax1.plot(lam_ext, f*ec(10*lam_ext), 'k:', lw=0.5)\n",
    "ax1.plot(lam/1000, f*ec(10*lam), 'k-', lw=0.5)\n",
    "ax1.plot(lam_ext/1000, f*ec(10*lam_ext), 'k:', lw=0.5)\n",
    "\n",
    "ec = extcurve_s16.extcurve(-0.04)\n",
    "#f = ec(5420)/ec(5510)\n",
    "f = ec(5420)/ec(21900)\n",
    "y = f*ec(10*lam)\n",
    "a,b = np.polyfit(x[oir],np.log10(y[oir]),1,w=w)\n",
    "print(\"R_V = 3.0 power law index = {0:4.2f}\".format(a))\n",
    "ax1.plot(lam/1000, f*ec(10*lam), 'k-', lw=0.5)\n",
    "ax1.plot(lam_ext/1000, f*ec(10*lam_ext), 'k:', lw=0.5)\n",
    "\n",
    "ylab = 3.7\n",
    "plt.text(.445, ylab, 'B', fontsize=16, ha='center')\n",
    "plt.text(.551, ylab, 'V', fontsize=16, ha='center')\n",
    "plt.text(.656, ylab, 'R', fontsize=16, ha='center')\n",
    "plt.text(.806, ylab, 'I', fontsize=16, ha='center')\n",
    "plt.text(1.220,ylab, 'J', fontsize=16, ha='center')\n",
    "plt.text(1.630,ylab, 'H', fontsize=16, ha='center')\n",
    "plt.text(2.190,ylab, 'K', fontsize=16, ha='center')\n",
    "\n",
    "plt.savefig('extinction.pdf')"
   ]
  },
  {
   "cell_type": "code",
   "execution_count": null,
   "metadata": {},
   "outputs": [],
   "source": []
  }
 ],
 "metadata": {
  "kernelspec": {
   "display_name": "Python 3",
   "language": "python",
   "name": "python3"
  },
  "language_info": {
   "codemirror_mode": {
    "name": "ipython",
    "version": 3
   },
   "file_extension": ".py",
   "mimetype": "text/x-python",
   "name": "python",
   "nbconvert_exporter": "python",
   "pygments_lexer": "ipython3",
   "version": "3.6.4"
  }
 },
 "nbformat": 4,
 "nbformat_minor": 4
}
