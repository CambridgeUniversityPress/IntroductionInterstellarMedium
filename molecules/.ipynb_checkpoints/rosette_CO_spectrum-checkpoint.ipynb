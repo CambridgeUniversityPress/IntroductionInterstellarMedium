{
 "cells": [
  {
   "cell_type": "markdown",
   "metadata": {},
   "source": [
    "## Introduction to the Interstellar Medium\n",
    "### Jonathan Williams"
   ]
  },
  {
   "cell_type": "markdown",
   "metadata": {},
   "source": [
    "### Figure 7.5: CO and 13CO spectrum toward a star-forming clump in the Rosette molecular cloud"
   ]
  },
  {
   "cell_type": "markdown",
   "metadata": {},
   "source": [
    "#### from observations taken with the IRAM 30m telescope by the author in 2002"
   ]
  },
  {
   "cell_type": "code",
   "execution_count": 4,
   "metadata": {},
   "outputs": [],
   "source": [
    "import numpy as np\n",
    "import matplotlib.pyplot as plt\n",
    "from scipy import integrate\n",
    "%matplotlib inline"
   ]
  },
  {
   "cell_type": "code",
   "execution_count": 5,
   "metadata": {},
   "outputs": [
    {
     "name": "stdout",
     "output_type": "stream",
     "text": [
      "Integrated CO emission   = 68.76 K km/s\n",
      "Integrated 13CO emission = 17.52 K km/s\n"
     ]
    },
    {
     "data": {
      "image/png": "[encoded data removed]",
      "text/plain": [
       "<Figure size 432x288 with 1 Axes>"
      ]
     },
     "metadata": {},
     "output_type": "display_data"
    }
   ],
   "source": [
    "fig = plt.figure(figsize=(6,4))\n",
    "ax1 = fig.add_subplot(111)\n",
    "ax1.set_xlabel(r\"$v$ (km/s)\", fontsize=16)\n",
    "ax1.set_ylabel(r\"$T_{\\rm B}$ (K)\", fontsize=16)\n",
    "\n",
    "v, T1, T2 = np.loadtxt('rosette_CO_spectrum.txt', unpack=True)\n",
    "\n",
    "vmin, vmax = 5, 21\n",
    "ax1.set_xlim(vmin, vmax)\n",
    "ax1.set_ylim(-4, 27)\n",
    "\n",
    "show = (v > vmin+0.75) & (v < vmax-0.75)\n",
    "ax1.plot(v[show], T1[show], color='k', lw=2, linestyle='solid', drawstyle='steps', label='CO')\n",
    "ax1.plot(v[show], T2[show], color='k', lw=2, linestyle='dotted', drawstyle='steps', label=r'$^{13}$CO')\n",
    "\n",
    "# get integrated intensity\n",
    "int = (v > 11) & (v < 16)\n",
    "T1_int = integrate.simps(T1[int],v[int])\n",
    "T2_int = integrate.simps(T2[int],v[int])\n",
    "print(\"Integrated CO emission   = {0:5.2f} K km/s\".format(T1_int))\n",
    "print(\"Integrated 13CO emission = {0:5.2f} K km/s\".format(T2_int))\n",
    "\n",
    "ax1.legend()\n",
    "fig.tight_layout() \n",
    "plt.savefig('rosette_CO_spectrum.pdf')"
   ]
  },
  {
   "cell_type": "code",
   "execution_count": null,
   "metadata": {},
   "outputs": [],
   "source": []
  }
 ],
 "metadata": {
  "kernelspec": {
   "display_name": "Python 3",
   "language": "python",
   "name": "python3"
  },
  "language_info": {
   "codemirror_mode": {
    "name": "ipython",
    "version": 3
   },
   "file_extension": ".py",
   "mimetype": "text/x-python",
   "name": "python",
   "nbconvert_exporter": "python",
   "pygments_lexer": "ipython3",
   "version": "3.6.4"
  }
 },
 "nbformat": 4,
 "nbformat_minor": 4
}
