{
 "cells": [
  {
   "cell_type": "markdown",
   "metadata": {},
   "source": [
    "## Introduction to the Interstellar Medium\n",
    "### Jonathan Williams"
   ]
  },
  {
   "cell_type": "markdown",
   "metadata": {},
   "source": [
    "### Figure 7.4: molecular rich spectrum"
   ]
  },
  {
   "cell_type": "markdown",
   "metadata": {},
   "source": [
    "#### this is a small portion (centered around CO 3-2) from the published spectrum in https://www.aanda.org/articles/aa/abs/2016/11/aa28648-16/aa28648-16.html\n",
    "#### the ascii file was provided by Jes Jorgensen"
   ]
  },
  {
   "cell_type": "code",
   "execution_count": 1,
   "metadata": {},
   "outputs": [],
   "source": [
    "import numpy as np\n",
    "import matplotlib.pyplot as plt\n",
    "from matplotlib.ticker import FormatStrFormatter\n",
    "%matplotlib inline"
   ]
  },
  {
   "cell_type": "code",
   "execution_count": null,
   "metadata": {},
   "outputs": [],
   "source": [
    "nu, flux = np.loadtxt('PILS_spectrum.txt', unpack=True)\n",
    "\n",
    "plt.style.use('classic')\n",
    "fig = plt.figure(figsize=(6,4))\n",
    "ax = fig.add_subplot(1,1,1)\n",
    "ax.set_xlabel(r\"$\\nu$ [GHz]\", fontsize=16)\n",
    "ax.set_ylabel(r\"Flux [Jy]\", fontsize=16)\n",
    "\n",
    "ax.plot(nu, flux, color='k', lw=1)\n",
    "\n",
    "ax.xaxis.set_major_formatter(FormatStrFormatter('%5.1f'))\n",
    "ax.set_xlim(344.55, 347.44)\n",
    "ax.set_ylim(-0.07, 1.3)\n",
    "\n",
    "fig.tight_layout() \n",
    "plt.savefig('PILS_spectrum.pdf')"
   ]
  }
 ],
 "metadata": {
  "kernelspec": {
   "display_name": "Python 3",
   "language": "python",
   "name": "python3"
  },
  "language_info": {
   "codemirror_mode": {
    "name": "ipython",
    "version": 3
   },
   "file_extension": ".py",
   "mimetype": "text/x-python",
   "name": "python",
   "nbconvert_exporter": "python",
   "pygments_lexer": "ipython3",
   "version": "3.6.4"
  }
 },
 "nbformat": 4,
 "nbformat_minor": 4
}
