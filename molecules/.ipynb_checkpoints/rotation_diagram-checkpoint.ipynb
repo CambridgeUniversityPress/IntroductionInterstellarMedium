{
 "cells": [
  {
   "cell_type": "markdown",
   "metadata": {},
   "source": [
    "## Introduction to the Interstellar Medium\n",
    "### Jonathan Williams"
   ]
  },
  {
   "cell_type": "markdown",
   "metadata": {},
   "source": [
    "### Figure 7.6: illustration of the size-linewidth relation"
   ]
  },
  {
   "cell_type": "code",
   "execution_count": 4,
   "metadata": {},
   "outputs": [],
   "source": [
    "import numpy as np\n",
    "import matplotlib.pyplot as plt\n",
    "%matplotlib inline"
   ]
  },
  {
   "cell_type": "code",
   "execution_count": null,
   "metadata": {},
   "outputs": [],
   "source": [
    "fig = plt.figure(figsize=(8,6))\n",
    "ax = fig.add_subplot(111)\n",
    "ax.set_xlabel(r\"$L\\ (pc)$\", fontsize=16)\n",
    "ax.set_ylabel(r\"$\\sigma\\ (km s^{-1})$\", fontsize=16)\n",
    "\n",
    "ax.set_xlim(0.03,300)\n",
    "ax.set_ylim(0.05,30)\n",
    "ax.set_xscale('log')\n",
    "ax.set_yscale('log')\n",
    "ax.tick_params(direction='in', which='major', length=6, width=1, colors='black', labelcolor='black', labelsize=14)\n",
    "ax.tick_params(direction='in', which='minor', length=3, width=1, colors='black')\n",
    "\n",
    "ax.plot(40, 3.0, 'ko')\n",
    "scale = 3/40**0.5\n",
    "\n",
    "npts = 50\n",
    "L = np.logspace(-1.1, 2.1, num=npts)\n",
    "L *= np.random.normal(loc=1, scale=0.2, size=npts)\n",
    "sigv = scale * L**0.5\n",
    "sigv *= np.random.normal(loc=1, scale=0.5, size=npts)\n",
    "f = L**0.5/sigv\n",
    "good = (f>0.33) & (f<3)\n",
    "ax.plot(L[good], sigv[good], 'ko')\n",
    "\n",
    "L = np.array([0.05,200])\n",
    "ax.plot(L, scale*L**0.5, color='lightgrey', lw=3, zorder=0)\n",
    "\n",
    "ax.text(np.sqrt(0.05*0.333), 16, 'Cores', fontsize=14, ha='center')\n",
    "ax.plot([0.05,0.05,0.333,0.333], [12,14,14,12], 'k-')\n",
    "ax.text(2, 16, 'Clumps', fontsize=14, ha='center')\n",
    "ax.plot([0.5,0.5,8,8], [12,14,14,12], 'k-')\n",
    "ax.text(np.sqrt(12*200), 16, 'Clouds', fontsize=14, ha='center')\n",
    "ax.plot([12,12,200,200], [12,14,14,12], 'k-')\n",
    "ax.text(60, 0.2, r'$\\sigma \\sim L^{0.5}$', fontsize=18, ha='center')\n",
    "\n",
    "fig.tight_layout() \n",
    "plt.savefig('size-linewidth.pdf')"
   ]
  }
 ],
 "metadata": {
  "kernelspec": {
   "display_name": "Python 3",
   "language": "python",
   "name": "python3"
  },
  "language_info": {
   "codemirror_mode": {
    "name": "ipython",
    "version": 3
   },
   "file_extension": ".py",
   "mimetype": "text/x-python",
   "name": "python",
   "nbconvert_exporter": "python",
   "pygments_lexer": "ipython3",
   "version": "3.6.4"
  }
 },
 "nbformat": 4,
 "nbformat_minor": 4
}
