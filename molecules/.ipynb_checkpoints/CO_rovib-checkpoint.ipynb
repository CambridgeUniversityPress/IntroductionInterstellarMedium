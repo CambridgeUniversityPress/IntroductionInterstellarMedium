{
 "cells": [
  {
   "cell_type": "markdown",
   "metadata": {},
   "source": [
    "## Introduction to the Interstellar Medium\n",
    "### Jonathan Williams"
   ]
  },
  {
   "cell_type": "markdown",
   "metadata": {},
   "source": [
    "### Figure 7.3: Model spectrum of ro-vibrational lines for CO v = 1 − 0"
   ]
  },
  {
   "cell_type": "markdown",
   "metadata": {},
   "source": [
    "#### based on Thi et al. 2003 (https://www.aanda.org/articles/aa/full_html/2013/03/aa19210-12/aa19210-12.html)\n",
    "#### uses Einstein coefficients for CO transitions from Chandra et al. 1996 (http://articles.adsabs.harvard.edu/pdf/1996A%26AS..117..557C)"
   ]
  },
  {
   "cell_type": "code",
   "execution_count": 1,
   "metadata": {},
   "outputs": [],
   "source": [
    "import numpy as np\n",
    "import matplotlib.pyplot as plt\n",
    "from astropy.io import fits\n",
    "%matplotlib inline"
   ]
  },
  {
   "cell_type": "code",
   "execution_count": 2,
   "metadata": {},
   "outputs": [],
   "source": [
    "def vibtrans(v0, v1):\n",
    "    file = 'Chandra_CO_EinsteinA.fits'\n",
    "    hdu = fits.open(file)\n",
    "    data = hdu[1].data\n",
    "\n",
    "    mask0 = data['Vlow']==v0\n",
    "    mask1 = data['Vup']==v1\n",
    "\n",
    "    return data[mask0 & mask1]"
   ]
  },
  {
   "cell_type": "code",
   "execution_count": 3,
   "metadata": {},
   "outputs": [],
   "source": [
    "def rottrans(table, J0, J1):\n",
    "    mask2 = table['Jlow']==J0\n",
    "    mask3 = table['Jup']==J1\n",
    "    rot = table[mask2 & mask3]\n",
    "    test = rot['A']\n",
    "    if len(test) > 0:\n",
    "        A = float(rot['A'])                     # s-1\n",
    "        nu0 = float(3e10*rot['freq'])           # Hz\n",
    "    else:\n",
    "        A = -1\n",
    "        nu0 = 0\n",
    "\n",
    "    return A, nu0"
   ]
  },
  {
   "cell_type": "code",
   "execution_count": 4,
   "metadata": {},
   "outputs": [],
   "source": [
    "def _plot(x, y):\n",
    "    fig = plt.figure(figsize=(6,4))\n",
    "    ax1 = fig.add_subplot(111)\n",
    "    ax1.set_xlabel(r\"$\\lambda\\ [\\mu m]$\", fontsize=16)\n",
    "    ax1.set_ylabel(r\"Relative Intensity\", fontsize=16)\n",
    "\n",
    "    ax1.plot(x, y, color='k', lw=2)\n",
    "\n",
    "    #ax1.set_xlim(4.52, 4.83)\n",
    "    ax1.set_ylim(0, 1.05)\n",
    "    #ax1.set_ylim(-100, 100)\n",
    "    #ax1.set_ylim(0, 70)\n",
    "\n",
    "    fig.tight_layout()\n",
    "    plt.savefig('CO_v10_rovib.pdf')"
   ]
  },
  {
   "cell_type": "code",
   "execution_count": 6,
   "metadata": {},
   "outputs": [
    {
     "data": {
      "image/png": "[encoded data removed]",
      "text/plain": [
       "<Figure size 432x288 with 1 Axes>"
      ]
     },
     "metadata": {},
     "output_type": "display_data"
    }
   ],
   "source": [
    "# call the subroutines\n",
    "wl_min = 4.50    # microns\n",
    "wl_max = 4.85    # microns\n",
    "nsteps = 10000\n",
    "wl = np.linspace(wl_min, wl_max, nsteps)\n",
    "nu = 3e14/wl\n",
    "sig_nu = 1e-4 * nu[0]\n",
    "I_nu = np.zeros(nsteps)\n",
    "\n",
    "Trot = 200\n",
    "Brot_CO = 2.44                   # rotational constant in K\n",
    "Qrot_CO = Trot/Brot_CO + 1/3\n",
    "\n",
    "# v=0-1\n",
    "t = vibtrans(0,1)\n",
    "\n",
    "# now calculate rotational branch J0 -> J1 (v=0 to v=1 level)\n",
    "\n",
    "# P-branch (Delta J = J1-J0 = -1)\n",
    "for J0 in range(1,21):\n",
    "    J1 = J0 - 1\n",
    "    EJ = J1*(J1+1) * Brot_CO\n",
    "    gJ = 2*(J1+1)\n",
    "    xJ = gJ * np.exp(-EJ/Trot) / Qrot_CO\n",
    "\n",
    "    A, nu1 = rottrans(t, J0, J1)\n",
    "#    print(J0, J1, A, nu1, 3e14/nu1)\n",
    "    I1 = xJ * A * nu1\n",
    "    I_nu += I1 * np.exp(-0.5*((nu-nu1) / sig_nu)**2)\n",
    "#print(40*'-')\n",
    "\n",
    "# no Q-branch for diatomic molecules (Delta J = 0)\n",
    "\n",
    "# R-branch (Delta J = J1-J0 = +1)\n",
    "for J0 in range(0,20):\n",
    "    J1 = J0+1\n",
    "    EJ = J1*(J1+1) * Brot_CO\n",
    "    gJ = 2*(J1+1)\n",
    "    xJ = gJ * np.exp(-EJ/Trot) / Qrot_CO\n",
    "\n",
    "    A, nu1 = rottrans(t, J0, J1)\n",
    "#    print(J0, J1, A, nu1, 3e14/nu1)\n",
    "    I1 = xJ * A * nu1\n",
    "    I_nu += I1 * np.exp(-0.5*((nu-nu1) / sig_nu)**2)\n",
    "#print(40*'-')\n",
    "\n",
    "_plot(wl, I_nu/I_nu.max())"
   ]
  },
  {
   "cell_type": "code",
   "execution_count": null,
   "metadata": {},
   "outputs": [],
   "source": []
  }
 ],
 "metadata": {
  "kernelspec": {
   "display_name": "Python 3",
   "language": "python",
   "name": "python3"
  },
  "language_info": {
   "codemirror_mode": {
    "name": "ipython",
    "version": 3
   },
   "file_extension": ".py",
   "mimetype": "text/x-python",
   "name": "python",
   "nbconvert_exporter": "python",
   "pygments_lexer": "ipython3",
   "version": "3.6.4"
  }
 },
 "nbformat": 4,
 "nbformat_minor": 4
}
