{
 "cells": [
  {
   "cell_type": "markdown",
   "metadata": {},
   "source": [
    "## Introduction to the Interstellar Medium\n",
    "### Jonathan Williams"
   ]
  },
  {
   "cell_type": "markdown",
   "metadata": {},
   "source": [
    "### Figure 8.13: optical image of multiple supernova remnants in the N44 nebula in the Large Magellanic Cloud"
   ]
  },
  {
   "cell_type": "markdown",
   "metadata": {},
   "source": [
    "#### data from skyview (DSS2 red)"
   ]
  },
  {
   "cell_type": "code",
   "execution_count": 3,
   "metadata": {},
   "outputs": [],
   "source": [
    "import numpy as np\n",
    "import matplotlib.pyplot as plt\n",
    "from astropy.io import fits\n",
    "from astropy.wcs import WCS\n",
    "%matplotlib inline"
   ]
  },
  {
   "cell_type": "code",
   "execution_count": null,
   "metadata": {},
   "outputs": [],
   "source": [
    "fig = plt.figure(figsize=(6,6))\n",
    "\n",
    "hdu = fits.open('N44_DSS2_red.fits')\n",
    "wcs1 = WCS(hdu[0])\n",
    "ax1 = fig.add_subplot(111, projection=wcs1)\n",
    "im1 = hdu[0].data\n",
    "hd1 = hdu[0].header\n",
    "#print(im1.min(),im1.max())\n",
    "\n",
    "imin, imax = 20, 820\n",
    "jmin, jmax = 30, 830\n",
    "\n",
    "ax1.imshow(im1[imin:imax, jmin:jmax], cmap='gray', origin='lower', vmin=2000, vmax=23000)\n",
    "hdu.close()\n",
    "\n",
    "# scale bar\n",
    "ax1.set_xlim(0,imax-imin-1)\n",
    "ax1.set_ylim(0,jmax-jmin-1)\n",
    "dx = hd1['CDELT1']\n",
    "# 0.0004 deg = 1.4 arcsec per pixel = 0.349 pc at 50 kpc\n",
    "xbar = 143.2\n",
    "x0 = 620\n",
    "x1 = x0 + xbar\n",
    "y0 = 40\n",
    "dy = 8\n",
    "ax1.plot([x0,x1],[y0,y0], 'w-', lw=2)\n",
    "ax1.plot([x0,x0],[y0-dy,y0+dy], 'w-', lw=2)\n",
    "ax1.plot([x1,x1],[y0-dy,y0+dy], 'w-', lw=2)\n",
    "ax1.text(0.5*(x0+x1), y0+1.5*dy, '50 pc', color='white', fontsize=14, ha='center')\n",
    "\n",
    "for i in (0,1):\n",
    "    ax1.coords[i].set_ticks_visible(False)\n",
    "    ax1.coords[i].set_ticklabel_visible(False)\n",
    "    ax1.coords[i].set_ticks_visible(False)\n",
    "    ax1.coords[i].set_ticklabel_visible(False)\n",
    "    ax1.coords[i].set_axislabel('')\n",
    "    ax1.coords[i].set_axislabel('')\n",
    "ax1.text(0.05, 0.91, '674 nm', {'color': 'white', 'fontsize': 20}, transform=ax1.transAxes)\n",
    "\n",
    "fig.tight_layout()\n",
    "plt.savefig('N44.pdf')"
   ]
  }
 ],
 "metadata": {
  "kernelspec": {
   "display_name": "Python 3",
   "language": "python",
   "name": "python3"
  },
  "language_info": {
   "codemirror_mode": {
    "name": "ipython",
    "version": 3
   },
   "file_extension": ".py",
   "mimetype": "text/x-python",
   "name": "python",
   "nbconvert_exporter": "python",
   "pygments_lexer": "ipython3",
   "version": "3.6.4"
  }
 },
 "nbformat": 4,
 "nbformat_minor": 4
}
