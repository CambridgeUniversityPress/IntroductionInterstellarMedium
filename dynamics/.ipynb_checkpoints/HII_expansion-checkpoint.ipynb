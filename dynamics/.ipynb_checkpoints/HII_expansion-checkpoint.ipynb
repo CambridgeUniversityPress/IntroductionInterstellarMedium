{
 "cells": [
  {
   "cell_type": "markdown",
   "metadata": {},
   "source": [
    "## Introduction to the Interstellar Medium\n",
    "### Jonathan Williams"
   ]
  },
  {
   "cell_type": "markdown",
   "metadata": {},
   "source": [
    "### Figure 8.12: pressure driven expansion of an HII region"
   ]
  },
  {
   "cell_type": "code",
   "execution_count": 1,
   "metadata": {},
   "outputs": [],
   "source": [
    "import numpy as np\n",
    "import matplotlib.pyplot as plt\n",
    "%matplotlib inline"
   ]
  },
  {
   "cell_type": "code",
   "execution_count": 2,
   "metadata": {},
   "outputs": [
    {
     "name": "stdout",
     "output_type": "stream",
     "text": [
      "v0 = 12.86 km/s\n",
      "Rs = 3.1 pc\n",
      "--------- Stall ----------\n",
      "Time     = 113.99 Myr\n",
      "Radius   = 106.41 pc\n",
      "Theory   = 107.15 pc\n",
      "Velocity = 0.91 km/s\n",
      "Density  = 0.51 cm-3\n",
      "--------------------------\n"
     ]
    },
    {
     "data": {
      "image/png": "[encoded data removed]",
      "text/plain": [
       "<Figure size 432x288 with 2 Axes>"
      ]
     },
     "metadata": {},
     "output_type": "display_data"
    }
   ],
   "source": [
    "fig = plt.figure(figsize=(6,4))\n",
    "ax1 = fig.add_subplot(1,1,1)\n",
    "\n",
    "# ambient medium density and particle mass\n",
    "n1 = 1e8        # m-3\n",
    "m1 = 1.67e-27   # kg\n",
    "T1 = 100        # K\n",
    "\n",
    "# electron temperature of HII region\n",
    "Te = 1e4        # K\n",
    "\n",
    "# recombination time\n",
    "alpha2 = 2.6e-19 * (1e4/Te)**0.5\n",
    "t_year = 3.15e7\n",
    "\n",
    "# start time of D-front\n",
    "t0 = 4.8e3\n",
    "\n",
    "# characteristic speed = np.sqrt(2)*c\n",
    "v0 = np.sqrt(2 * 1.38e-23 * Te / m1)                   # m/s\n",
    "print(\"v0 = {0:.2f} km/s\".format(v0/1e3))\n",
    "\n",
    "# ionization rate (s-1)\n",
    "N_ionize = 1e49\n",
    "\n",
    "# ionization-recombination radii (m)\n",
    "pc = 3.09e16\n",
    "Rs = (3 * N_ionize/(4 * np.pi * alpha2 * n1**2))**0.3333\n",
    "print(\"Rs = {0:.1f} pc\".format(Rs/pc))\n",
    "\n",
    "# set up arrays for time, radius, speed\n",
    "nt = 300\n",
    "t = 10**(3+6*np.arange(nt)/(nt-1))                    # yr\n",
    "\n",
    "# pressure wave\n",
    "r = Rs * (1 + v0*t*t_year/Rs)**(4/7)                  # m\n",
    "v = v0 * (Rs/r)**(3/4)                                # m/s\n",
    "n = n1 * (Rs/r)**(3/2)                                # m-3\n",
    "\n",
    "# get radius and speed when pressures balance\n",
    "Rstall = Rs * (2*Te/T1)**(2/3)\n",
    "k2 = np.argmin(np.abs(r-Rstall))\n",
    "print(\"--------- Stall ----------\")\n",
    "print(\"Time     = {0:.2f} Myr\".format(t[k2]/1e6))\n",
    "print(\"Radius   = {0:.2f} pc\".format(r[k2]/pc))\n",
    "print(\"Theory   = {0:.2f} pc\".format(Rstall/pc))\n",
    "print(\"Velocity = {0:.2f} km/s\".format(v[k2]/1e3))\n",
    "print(\"Density  = {0:.2f} cm-3\".format(n[k2]/1e6))\n",
    "print(\"--------------------------\")\n",
    "\n",
    "ax1.plot(t0+t[0:k2], r[0:k2]/pc, color='k', lw=2)\n",
    "ax1.set_xscale('log')\n",
    "ax1.set_yscale('log')\n",
    "ax1.set_xlabel(r\"$t$ [yr]\", fontsize=16)\n",
    "ax1.set_ylabel(r\"$R$ [pc]\", fontsize=16)\n",
    "ax1.set_ylim(1, 200)\n",
    "\n",
    "ax2 = ax1.twinx() \n",
    "ax2.plot(t0+t[0:k2], v[0:k2]/1e3, color='k', linestyle='dashed', lw=2)\n",
    "ax2.set_yscale('log')\n",
    "#ax2.set_ylabel(r\"$n$ [m$^{-3}$]\", fontsize=16)\n",
    "ax2.set_ylabel(r\"$v$ [km/s]\", fontsize=16)\n",
    "ax2.set_ylim(0.5, 20)\n",
    "\n",
    "ax1.set_xlim(1e4, 7e8)\n",
    "ax2.set_xlim(1e4, 7e8)\n",
    "\n",
    "plt.axvspan(t[k2], 1e9, color='gray', alpha=0.1, zorder=10)\n",
    "ax1.text(0.93, 0.66, 'S', ha='center', transform=ax1.transAxes)\n",
    "ax1.text(0.93, 0.58, 'T', ha='center', transform=ax1.transAxes)\n",
    "ax1.text(0.93, 0.50, 'A', ha='center', transform=ax1.transAxes)\n",
    "ax1.text(0.93, 0.44, 'L', ha='center', transform=ax1.transAxes)\n",
    "ax1.text(0.93, 0.36, 'L', ha='center', transform=ax1.transAxes)\n",
    "\n",
    "fig.tight_layout(rect=[0.0,0.0,1.0,1.0]) \n",
    "plt.savefig('HII_expansion.pdf')"
   ]
  },
  {
   "cell_type": "code",
   "execution_count": null,
   "metadata": {},
   "outputs": [],
   "source": []
  }
 ],
 "metadata": {
  "kernelspec": {
   "display_name": "Python 3",
   "language": "python",
   "name": "python3"
  },
  "language_info": {
   "codemirror_mode": {
    "name": "ipython",
    "version": 3
   },
   "file_extension": ".py",
   "mimetype": "text/x-python",
   "name": "python",
   "nbconvert_exporter": "python",
   "pygments_lexer": "ipython3",
   "version": "3.6.4"
  }
 },
 "nbformat": 4,
 "nbformat_minor": 4
}
