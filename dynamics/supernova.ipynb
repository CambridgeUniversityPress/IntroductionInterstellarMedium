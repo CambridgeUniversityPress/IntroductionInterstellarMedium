{
 "cells": [
  {
   "cell_type": "markdown",
   "metadata": {},
   "source": [
    "## Introduction to the Interstellar Medium\n",
    "### Jonathan Williams"
   ]
  },
  {
   "cell_type": "markdown",
   "metadata": {},
   "source": [
    "### Figure 8.9: radius and velocity evolution of a supernova remnant"
   ]
  },
  {
   "cell_type": "code",
   "execution_count": 1,
   "metadata": {},
   "outputs": [],
   "source": [
    "import numpy as np\n",
    "import matplotlib.pyplot as plt\n",
    "%matplotlib inline"
   ]
  },
  {
   "cell_type": "code",
   "execution_count": 3,
   "metadata": {},
   "outputs": [],
   "source": [
    "fig = plt.figure(figsize=(6,4))\n",
    "ax1 = fig.add_subplot(111)\n",
    "\n",
    "n = 100\n",
    "t = 10**(7*np.arange(n)/(n-1))\n",
    "r = np.zeros(n)\n",
    "v = np.zeros(n)\n",
    "\n",
    "# free expansion\n",
    "v0 = 1e4            # explosion speed in km/s\n",
    "t1 = 200            # end of phase in yr\n",
    "i1 = t < t1\n",
    "r[i1] = v0 * t[i1]/1e6  # 1 km/s = 1 pc/Myr\n",
    "v[i1] = v0\n",
    "\n",
    "# blast wave\n",
    "t2 = 1.2e5          # end of adiabatic phase\n",
    "i2 = (t >= t1) & (t < t2)\n",
    "t0 = t[i1][-1]\n",
    "r0 = r[i1][-1]\n",
    "v0 = v[i1][-1]\n",
    "r[i2] = r0 * (t[i2]/t0)**0.4\n",
    "v[i2] = v0 * (t0/t[i2])**0.6\n",
    "\n",
    "# check of velcoity condition for end of adiabatic phase\n",
    "#k = np.argmin(np.abs(v-200))\n",
    "#print(t[k],r[k],v[k])\n",
    "\n",
    "# snow-plough\n",
    "i3 = t >= t2\n",
    "t0 = t[i2][-1]\n",
    "r0 = r[i2][-1]\n",
    "v0 = v[i2][-1]\n",
    "r[i3] = r0 * (t[i3]/t0)**0.25\n",
    "v[i3] = v0 * (t0/t[i3])**0.75\n",
    "#print(t, r, v)\n",
    "\n",
    "# get radius and speed at 1 Myr\n",
    "#k = np.argmin(np.abs(t-1e6))\n",
    "#print(t[k],r[k],v[k])\n",
    "\n",
    "# get radius and speed at 10 Myr\n",
    "k = np.argmin(np.abs(t-1e7))\n",
    "#print(t[k],r[k],v[k])\n",
    "\n",
    "ax1.plot(t, r, color='k', lw=2)\n",
    "ax1.set_xscale('log')\n",
    "ax1.set_yscale('log')\n",
    "ax1.set_xlabel(r\"$t$ [yr]\", fontsize=16)\n",
    "ax1.set_ylabel(r\"$R$ [pc]\", fontsize=16)\n",
    "\n",
    "ax2 = ax1.twinx() \n",
    "ax2.plot(t, v, color='k', linestyle='dashed', lw=2)\n",
    "ax2.set_yscale('log')\n",
    "ax2.set_ylabel(r\"$v$ [km/s]\", fontsize=16)\n",
    "ax2.set_ylim(3, 1.4e4)\n",
    "\n",
    "plt.axvspan(t1, t2, color='gray', alpha=0.1, zorder=10)\n",
    "ax1.text(12, 7, 'Free', ha='center')\n",
    "ax1.text(12, 4, 'Expansion', ha='center')\n",
    "ax1.text(4.5e3, 0.1, 'Blast wave', ha='center')\n",
    "ax1.text(1e6, 2.6, 'Snow', ha='center')\n",
    "ax1.text(1e6, 1.4, 'plough', ha='center')\n",
    "\n",
    "fig.tight_layout()\n",
    "plt.savefig('supernova.pdf')"
   ]
  },
  {
   "cell_type": "code",
   "execution_count": null,
   "metadata": {},
   "outputs": [],
   "source": []
  }
 ],
 "metadata": {
  "kernelspec": {
   "display_name": "Python 3",
   "language": "python",
   "name": "python3"
  },
  "language_info": {
   "codemirror_mode": {
    "name": "ipython",
    "version": 3
   },
   "file_extension": ".py",
   "mimetype": "text/x-python",
   "name": "python",
   "nbconvert_exporter": "python",
   "pygments_lexer": "ipython3",
   "version": "3.6.4"
  }
 },
 "nbformat": 4,
 "nbformat_minor": 4
}
