{
 "cells": [
  {
   "cell_type": "markdown",
   "metadata": {},
   "source": [
    "## Introduction to the Interstellar Medium\n",
    "### Jonathan Williams"
   ]
  },
  {
   "cell_type": "markdown",
   "metadata": {},
   "source": [
    "### Figure 9.7: nice plot of the Ophiuchus star forming region"
   ]
  },
  {
   "cell_type": "markdown",
   "metadata": {},
   "source": [
    "#### split off one wavelength from a 3-color public image of Spitzer (http://www.spitzer.caltech.edu/images/1891-ssc2008-03a1-Young-Stars-in-Their-Baby-Blanket-of-Dust-Rho-Ophiuchi)\n",
    "#### as the book requires b/w images only :("
   ]
  },
  {
   "cell_type": "code",
   "execution_count": 1,
   "metadata": {},
   "outputs": [],
   "source": [
    "import matplotlib.pyplot as plt\n",
    "import matplotlib.image as mpimg\n",
    "%matplotlib inline"
   ]
  },
  {
   "cell_type": "code",
   "execution_count": null,
   "metadata": {},
   "outputs": [],
   "source": [
    "img = mpimg.imread('ophiuchus_spitzer.jpg')\n",
    "# image is 2.1 x 1.0 degrees\n",
    "#print(img.shape)\n",
    "# 724 x 1500\n",
    "# => 0.0014 deg / pixel\n",
    "# 141 pix = 0.5 pc for d = 145 pc\n",
    "\n",
    "i1, i2 = 200, 700\n",
    "j1, j2 = 600, 1200\n",
    "# cropped image is 0.84 x 0.7 deg\n",
    "\n",
    "img3 = img[i1:i2, j1:j2, 0]\n",
    "img8 = img[i1:i2, j1:j2, 1]\n",
    "img24 = img[i1:i2, j1:j2, 2]\n",
    "\n",
    "fig = plt.figure(figsize=(8,6.7))\n",
    "ax = fig.add_subplot(111)\n",
    "ax.set_xticks([])\n",
    "ax.set_yticks([])\n",
    "\n",
    "# scale bar\n",
    "ax.plot([430,571],[470,470], 'w-', lw=2)\n",
    "ax.plot([430,430],[466,474], 'w-', lw=2)\n",
    "ax.plot([571,571],[466,474], 'w-', lw=2)\n",
    "ax.text(500, 463, '0.5 pc', color='white', fontsize=16, ha='center')\n",
    "\n",
    "#ax.imshow(img3, cmap='gist_gray')\n",
    "#ax.text(0.04,0.92,r'$3.6\\,\\mu{\\rm m}$', {'color': 'w', 'fontsize': 16}, transform=ax.transAxes)\n",
    "#plt.tight_layout()\n",
    "#plt.savefig('ophiuchus_3.6micron.pdf')\n",
    "\n",
    "#ax.imshow(img8, cmap='gist_gray')\n",
    "#ax.text(0.04,0.92,r'$8\\,\\mu{\\rm m}$', {'color': 'w', 'fontsize': 16}, transform=ax.transAxes)\n",
    "#plt.tight_layout()\n",
    "#plt.savefig('ophiuchus_8micron.pdf')\n",
    "\n",
    "ax.imshow(img24, cmap='gist_gray')\n",
    "ax.text(0.04,0.92,r'$24\\,\\mu{\\rm m}$', {'color': 'w', 'fontsize': 22}, transform=ax.transAxes)\n",
    "plt.tight_layout()\n",
    "plt.savefig('ophiuchus_24micron.pdf')"
   ]
  }
 ],
 "metadata": {
  "kernelspec": {
   "display_name": "Python 3",
   "language": "python",
   "name": "python3"
  },
  "language_info": {
   "codemirror_mode": {
    "name": "ipython",
    "version": 3
   },
   "file_extension": ".py",
   "mimetype": "text/x-python",
   "name": "python",
   "nbconvert_exporter": "python",
   "pygments_lexer": "ipython3",
   "version": "3.6.4"
  }
 },
 "nbformat": 4,
 "nbformat_minor": 4
}
