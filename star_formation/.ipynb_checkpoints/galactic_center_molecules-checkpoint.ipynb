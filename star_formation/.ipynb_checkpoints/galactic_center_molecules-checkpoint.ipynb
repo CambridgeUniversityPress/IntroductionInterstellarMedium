{
 "cells": [
  {
   "cell_type": "markdown",
   "metadata": {},
   "source": [
    "## Introduction to the Interstellar Medium\n",
    "### Jonathan Williams"
   ]
  },
  {
   "cell_type": "markdown",
   "metadata": {},
   "source": [
    "### Figure 9.9: CO and HCN emission toward the Galactic center "
   ]
  },
  {
   "cell_type": "markdown",
   "metadata": {},
   "source": [
    "#### the observations were taken with the Atacama Submillimeter Telescope Experiment (ASTE) and available at https://www.nro.nao.ac.jp/~nro45mrt/html/results/data.html\n",
    "#### I have manually integrated the data cubes to reduce size for github"
   ]
  },
  {
   "cell_type": "code",
   "execution_count": 1,
   "metadata": {},
   "outputs": [],
   "source": [
    "import numpy as np\n",
    "import matplotlib.pyplot as plt\n",
    "from matplotlib.ticker import FormatStrFormatter\n",
    "from astropy.io import fits\n",
    "%matplotlib inline"
   ]
  },
  {
   "cell_type": "code",
   "execution_count": null,
   "metadata": {},
   "outputs": [],
   "source": [
    "fig = plt.figure(figsize=(8, 8))\n",
    "\n",
    "# I manually integrated and cropped the large data cubes to a small region around the Galactic center\n",
    "# the resulting range in (l,b) is\n",
    "extent = [0.27861133411109995, -0.27861086188890005, -0.174722214, 0.09444443999999999]\n",
    "\n",
    "# read in and plot CO\n",
    "hdu = fits.open('galactic_center_CO32.fits')\n",
    "co = hdu[0].data\n",
    "hdu.close()\n",
    "ax1 = fig.add_subplot(211)\n",
    "ax1.imshow(co, cmap='gray', origin='lower', vmin=0.0*co.max(), vmax=0.9*co.max(), extent=extent)\n",
    "ax1.tick_params(direction='in', length=4, width=2, colors='white', labelcolor='black', labelsize=14)\n",
    "ax1.xaxis.set_major_formatter(FormatStrFormatter('%5.1f'))\n",
    "ax1.set_xlim(extent[0], extent[1])\n",
    "ax1.set_ylim(extent[2], extent[3])\n",
    "#ax1.set_xlabel(r'Galactic Longitude ($^\\circ$)')\n",
    "ax1.set_ylabel(r'Galactic Latitude ($^\\circ$)', fontsize=16)\n",
    "ax1.text(0.05,0.87,r'CO 3-2', {'color': 'white', 'fontsize': 16}, transform=ax1.transAxes)\n",
    "\n",
    "# read in and plot HCN\n",
    "hdu = fits.open('galactic_center_HCN43.fits')\n",
    "hcn = hdu[0].data\n",
    "hdu.close()\n",
    "ax2 = fig.add_subplot(212)\n",
    "ax2.imshow(hcn, cmap='gray', origin='lower', vmin=0.0*hcn.max(), vmax=0.9*hcn.max(), extent=extent)\n",
    "ax2.tick_params(direction='in', length=4, width=2, colors='white', labelcolor='black', labelsize=14)\n",
    "ax2.xaxis.set_major_formatter(FormatStrFormatter('%5.1f'))\n",
    "ax2.set_xlim(extent[0], extent[1])\n",
    "ax2.set_ylim(extent[2], extent[3])\n",
    "ax2.set_xlabel(r'Galactic Longitude ($^\\circ$)', fontsize=16)\n",
    "ax2.set_ylabel(r'Galactic Latitude ($^\\circ$)', fontsize=16)\n",
    "ax2.text(0.05,0.87,r'HCN 4-3', {'color': 'white', 'fontsize': 16}, transform=ax2.transAxes)\n",
    "\n",
    "# 10 pc = 0.07 deg at 8.2 kpc\n",
    "xbar1 = extent[1] + 0.03\n",
    "xbar2 = xbar1 + 0.07\n",
    "ybar = extent[2] + 0.025\n",
    "ax2.plot([xbar1,xbar2], [ybar, ybar], lw=2, color='white')\n",
    "ax2.plot([xbar1,xbar1], [ybar-0.003, ybar+0.003], lw=2, color='white')\n",
    "ax2.plot([xbar2,xbar2], [ybar-0.003, ybar+0.003], lw=2, color='white')\n",
    "ax2.text(0.5*(xbar1+xbar2), ybar+0.006, '10 pc', ha='center', color='white', fontsize=14)\n",
    "\n",
    "plt.tight_layout()\n",
    "plt.savefig('galactic_center_molecules.pdf')"
   ]
  }
 ],
 "metadata": {
  "kernelspec": {
   "display_name": "Python 3",
   "language": "python",
   "name": "python3"
  },
  "language_info": {
   "codemirror_mode": {
    "name": "ipython",
    "version": 3
   },
   "file_extension": ".py",
   "mimetype": "text/x-python",
   "name": "python",
   "nbconvert_exporter": "python",
   "pygments_lexer": "ipython3",
   "version": "3.6.4"
  }
 },
 "nbformat": 4,
 "nbformat_minor": 4
}
