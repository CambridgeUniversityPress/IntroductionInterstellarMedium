{
 "cells": [
  {
   "cell_type": "markdown",
   "metadata": {},
   "source": [
    "## Introduction to the Interstellar Medium\n",
    "### Jonathan Williams"
   ]
  },
  {
   "cell_type": "markdown",
   "metadata": {},
   "source": [
    "### Figure 9.8: plot a schematic IMF (for illustrative purposes only!)"
   ]
  },
  {
   "cell_type": "code",
   "execution_count": 1,
   "metadata": {},
   "outputs": [],
   "source": [
    "import numpy as np\n",
    "import matplotlib.pyplot as plt\n",
    "from scipy.ndimage.filters import gaussian_filter1d\n",
    "%matplotlib inline"
   ]
  },
  {
   "cell_type": "code",
   "execution_count": 2,
   "metadata": {},
   "outputs": [
    {
     "data": {
      "image/png": "[encoded data removed]",
      "text/plain": [
       "<Figure size 432x288 with 1 Axes>"
      ]
     },
     "metadata": {},
     "output_type": "display_data"
    }
   ],
   "source": [
    "gamma = 2.35\n",
    "mpeak = 0.06\n",
    "sigma = 0.5\n",
    "mp = 1.0\n",
    "\n",
    "# mass range\n",
    "m = np.logspace(-2.5,2.5,100)\n",
    "logm = np.log10(m)\n",
    "dndm = np.zeros(logm.size)\n",
    "\n",
    "# gaussian in log m\n",
    "g = np.exp(-(logm - np.log10(mpeak))**2/(2*sigma**2))\n",
    "ip = np.argmin(np.abs(m-mp))\n",
    "\n",
    "# power law tail\n",
    "p = g[ip]*(mp/m)**gamma\n",
    "p[:ip] = 0\n",
    "g[ip:] = 0\n",
    "\n",
    "# add them together and smooth over the rough edges...\n",
    "dndm = g + p\n",
    "dndm = gaussian_filter1d(dndm, sigma=3)\n",
    "dndlnm = m*dndm\n",
    "dndlnm /= dndlnm.max()\n",
    "#print(m[np.argmax(dndlnm)])\n",
    "\n",
    "fig = plt.figure(figsize=(6,4))\n",
    "ax = fig.add_subplot(111)\n",
    "\n",
    "ax.set_xlim(0.01, 100)\n",
    "ax.set_ylim(1e-3, 2)\n",
    "ax.set_xlabel(r'$M\\ (M_\\odot)$', fontsize=14)\n",
    "ax.set_ylabel(r'$dN/d{\\rm ln}M$', fontsize=14)\n",
    "ax.set_xscale('log')\n",
    "ax.set_yscale('log')\n",
    "\n",
    "ax.plot(m, dndlnm, color='black', lw=2, ls='-')\n",
    "\n",
    "fig.tight_layout(rect=[0.0,0.0,1.0,1.0]) \n",
    "plt.savefig('imf.pdf')"
   ]
  },
  {
   "cell_type": "code",
   "execution_count": null,
   "metadata": {},
   "outputs": [],
   "source": []
  }
 ],
 "metadata": {
  "kernelspec": {
   "display_name": "Python 3",
   "language": "python",
   "name": "python3"
  },
  "language_info": {
   "codemirror_mode": {
    "name": "ipython",
    "version": 3
   },
   "file_extension": ".py",
   "mimetype": "text/x-python",
   "name": "python",
   "nbconvert_exporter": "python",
   "pygments_lexer": "ipython3",
   "version": "3.6.4"
  }
 },
 "nbformat": 4,
 "nbformat_minor": 4
}
