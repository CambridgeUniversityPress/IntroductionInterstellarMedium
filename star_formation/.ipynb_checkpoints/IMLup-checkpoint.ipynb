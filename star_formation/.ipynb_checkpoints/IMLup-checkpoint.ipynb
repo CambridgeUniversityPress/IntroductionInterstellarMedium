{
 "cells": [
  {
   "cell_type": "markdown",
   "metadata": {},
   "source": [
    "## Introduction to the Interstellar Medium\n",
    "### Jonathan Williams"
   ]
  },
  {
   "cell_type": "markdown",
   "metadata": {},
   "source": [
    "### Figure 9.15: near-infrared and millimeter high resolution images of the IM Lup protoplanetary disk"
   ]
  },
  {
   "cell_type": "markdown",
   "metadata": {},
   "source": [
    "#### near-infrared image is a jpg from the ESO press release (https://www.eso.org/public/images/eso1811c/)\n",
    "#### millimeter data is a fits file from the ALMA project archive (https://bulk.cv.nrao.edu/almadata/lp/DSHARP/)"
   ]
  },
  {
   "cell_type": "code",
   "execution_count": 1,
   "metadata": {},
   "outputs": [],
   "source": [
    "import numpy as np\n",
    "import matplotlib.pyplot as plt\n",
    "import matplotlib.image as mpimg\n",
    "from astropy.io import fits\n",
    "from astropy.visualization import (ImageNormalize, MinMaxInterval, SqrtStretch, LogStretch, SinhStretch, AsinhStretch)\n",
    "%matplotlib inline"
   ]
  },
  {
   "cell_type": "code",
   "execution_count": null,
   "metadata": {},
   "outputs": [],
   "source": [
    "img = mpimg.imread('IMLup_SPHERE.jpg')\n",
    "#print(img.shape)\n",
    "# this is 1464 x 1464 pixels = 9'' x 9''\n",
    "# crop to 7''\n",
    "i1, i2 = 163, 1301\n",
    "j1, j2 = 163, 1301\n",
    "# crop to 6'' = 976 pix\n",
    "i1, i2 = 244, 1220\n",
    "j1, j2 = 244, 1220\n",
    "im1 = img[i1:i2, j1:j2, 0]\n",
    "\n",
    "hdu = fits.open('IMLup_band6.fits')\n",
    "#hd2 = hdu[0].header\n",
    "# image is 4000 x 4000 pix with pixel scale of 0.003 arcsec\n",
    "imin, imax = 1000, 3000\n",
    "jmin, jmax = 1000, 3000\n",
    "im2 = hdu[0].data.squeeze()[imin:imax, jmin:jmax] * 1000\n",
    "\n",
    "fig = plt.figure(figsize=(16,8))\n",
    "ax1 = fig.add_subplot(121)\n",
    "ax1.set_xticks([])\n",
    "ax1.set_yticks([])\n",
    "norm = ImageNormalize(im1, MinMaxInterval(), stretch=SinhStretch(0.9))\n",
    "ax1.imshow(im1, cmap='gist_gray', norm=norm)\n",
    "ax1.text(0.05,0.93,r'$1.6\\,\\mu{\\rm m}$', {'color': 'w', 'fontsize': 20}, transform=ax1.transAxes)\n",
    "\n",
    "ax2 = fig.add_subplot(122)\n",
    "ax2.set_xticks([])\n",
    "ax2.set_yticks([])\n",
    "norm = ImageNormalize(im2, vmin=0.05, vmax=5.0, stretch=LogStretch())\n",
    "ax2.imshow(im2, cmap='gist_gray', origin='lower', norm=norm)\n",
    "ax2.text(0.05,0.93,r'$1.3\\,{\\rm mm}$', {'color': 'w', 'fontsize': 20}, transform=ax2.transAxes)\n",
    "\n",
    "# scale bar\n",
    "#dy = hd2['CDELT2'] * 3600\n",
    "# 0.003 arcsec per pixel(!)\n",
    "# distance = 158 +/- 3 pc\n",
    "# => 30au = 63.3 pixels\n",
    "# => 100au = 211 pixels\n",
    "xbar = 211\n",
    "x0 = 1650\n",
    "x1 = x0 + xbar\n",
    "y0 = 110\n",
    "dy = 12\n",
    "ax2.plot([x0,x1],[y0,y0], 'w-', lw=2)\n",
    "ax2.plot([x0,x0],[y0-dy,y0+dy], 'w-', lw=2)\n",
    "ax2.plot([x1,x1],[y0-dy,y0+dy], 'w-', lw=2)\n",
    "ax2.text(0.5*(x0+x1), y0+1.7*dy, '100 au', color='white', fontsize=14, ha='center')\n",
    "\n",
    "plt.tight_layout()\n",
    "plt.savefig('IMLup.pdf')"
   ]
  }
 ],
 "metadata": {
  "kernelspec": {
   "display_name": "Python 3",
   "language": "python",
   "name": "python3"
  },
  "language_info": {
   "codemirror_mode": {
    "name": "ipython",
    "version": 3
   },
   "file_extension": ".py",
   "mimetype": "text/x-python",
   "name": "python",
   "nbconvert_exporter": "python",
   "pygments_lexer": "ipython3",
   "version": "3.6.4"
  }
 },
 "nbformat": 4,
 "nbformat_minor": 4
}
