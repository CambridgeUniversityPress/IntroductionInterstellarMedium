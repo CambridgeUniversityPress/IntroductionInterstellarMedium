{
 "cells": [
  {
   "cell_type": "markdown",
   "metadata": {},
   "source": [
    "## Introduction to the Interstellar Medium\n",
    "### Jonathan Williams"
   ]
  },
  {
   "cell_type": "markdown",
   "metadata": {},
   "source": [
    "### Figure 9.13: SED for a flat disk compared to photometry of AA Tau"
   ]
  },
  {
   "cell_type": "code",
   "execution_count": 1,
   "metadata": {},
   "outputs": [],
   "source": [
    "import numpy as np\n",
    "import matplotlib.pyplot as plt\n",
    "from astropy import units as u\n",
    "from astropy import constants as c\n",
    "%matplotlib inline"
   ]
  },
  {
   "cell_type": "code",
   "execution_count": 1,
   "metadata": {},
   "outputs": [],
   "source": [
    "# blackbody\n",
    "def Bnu(nu,T):\n",
    "    return(2*c.h*nu**3 / c.c**2 * (np.exp(c.h*nu/(c.k_B*T)) - 1)**-1)"
   ]
  },
  {
   "cell_type": "code",
   "execution_count": 2,
   "metadata": {},
   "outputs": [],
   "source": [
    "def integrate_disk(nu, r, T, Sigma, incl):\n",
    "    cosi = np.cos(incl * np.pi/180)\n",
    "    Fnu = np.zeros(nu.size) * Bnu(1*u.Hz,1*u.K)\n",
    "    for i in range(r.size-1):\n",
    "        r0 = r[i]\n",
    "        dr = r[i+1] - r0\n",
    "        kappa_nu = 10 * (nu.value/1e12)     # Beckwith dust opacity (cm2/g)\n",
    "        tau_nu = kappa_nu * Sigma[i] / cosi\n",
    "        Fnu += Bnu(nu, T[i]) * (1 - np.exp(-tau_nu))* 2 * np.pi * r0 * cosi * dr\n",
    "    return Fnu"
   ]
  },
  {
   "cell_type": "code",
   "execution_count": 3,
   "metadata": {},
   "outputs": [],
   "source": [
    "def plotsed_nuFnu(wl, Fnu_star, Fnu_disk):\n",
    "    fig = plt.figure(figsize=(8,5))\n",
    "    ax = fig.add_subplot(111)\n",
    "\n",
    "    ax.set_xlim(2e-1, 5e3)\n",
    "    ax.set_ylim(5e-18, 2e-12)\n",
    "    ax.set_xscale('log')\n",
    "    ax.set_yscale('log')\n",
    "    ax.set_xlabel(r'$\\lambda$ ($\\mu$m)', fontsize=14)\n",
    "    ax.set_ylabel(r'$\\nu F_\\nu$ (W m$^{-2}$)', fontsize=14)\n",
    "\n",
    "    nu = 3e-12/wl\n",
    "    ax.plot(wl, nu*Fnu_star, color='black', lw=1, ls='--', label='Star')\n",
    "    ax.plot(wl, nu*Fnu_disk, color='black', lw=1, ls=':', label='Disk')\n",
    "    ax.plot(wl, nu*Fnu_star+nu*Fnu_disk, color='black', lw=2, ls='-', label='Star+Disk')\n",
    "\n",
    "    wl_obs, Fnu_obs, sigsys, cal, ref = np.genfromtxt('aa_tau.txt', unpack=True)\n",
    "    nu_obs = 3e-12 / wl_obs\n",
    "    Fnu_sigma = np.sqrt(sigsys**2 + (cal*Fnu_obs)**2)\n",
    "    ax.plot(wl_obs, nu_obs*Fnu_obs, 'ko', label='Observations')\n",
    "    #ax.errorbar(wl_obs, nu_obs*Fnu_obs, yerr=nu_obs*Fnu_sigma, fmt='o', ecolor='black', elinewidth=0.5, mfc='black', ms=5, mec='None')\n",
    "\n",
    "    ax.legend()\n",
    "\n",
    "    x_labels = ['1','10','100','1000']\n",
    "    x_loc = np.array([float(x) for x in x_labels])\n",
    "    ax.set_xticks(x_loc)\n",
    "    ax.set_xticklabels(x_labels)\n",
    "    #y_labels = ['1','10','100','1000']\n",
    "    #y_loc = np.array([float(y) for y in y_labels])\n",
    "    #ax.set_yticks(y_loc)\n",
    "    #ax.set_yticklabels(y_labels)\n",
    "\n",
    "    fig.tight_layout(rect=[0.0,0.0,1.0,1.0]) \n",
    "    plt.savefig('disk_SED.pdf')"
   ]
  },
  {
   "cell_type": "code",
   "execution_count": null,
   "metadata": {},
   "outputs": [],
   "source": [
    "Rmin = 0.01  # au\n",
    "Rmax = 100   # au\n",
    "r = np.logspace(np.log10(Rmin),np.log10(Rmax),1000)\n",
    "d = 145      # pc (Loomis et al.)\n",
    "\n",
    "wl = np.logspace(-1,4,100)  # microns\n",
    "nu = 3e14 / wl *u.Hz\n",
    "\n",
    "Jy = 1e-26 * u.W * (u.m)**(-2) * (u.Hz)**(-1)\n",
    "d_au = d * 2.06e5\n",
    "\n",
    "Rsun_pc = 6.5e-8\n",
    "Tstar = 3000 * u.K\n",
    "Fnu_star = (Bnu(nu, Tstar) / Jy).decompose() * np.pi*(Rsun_pc/d)**2\n",
    "\n",
    "T1 = 80 * u.K\n",
    "T = T1 / r**0.75\n",
    "Sigma1 = 100                 # g/cm2 (because of kappa and tradition...)\n",
    "Sigma = Sigma1 / r\n",
    "incl = 60\n",
    "Fnu_disk = (integrate_disk(nu, r, T, Sigma, incl) / Jy).decompose() / d_au**2\n",
    "\n",
    "plotsed_nuFnu(wl, Fnu_star, Fnu_disk)"
   ]
  }
 ],
 "metadata": {
  "kernelspec": {
   "display_name": "Python 3",
   "language": "python",
   "name": "python3"
  },
  "language_info": {
   "codemirror_mode": {
    "name": "ipython",
    "version": 3
   },
   "file_extension": ".py",
   "mimetype": "text/x-python",
   "name": "python",
   "nbconvert_exporter": "python",
   "pygments_lexer": "ipython3",
   "version": "3.6.4"
  }
 },
 "nbformat": 4,
 "nbformat_minor": 4
}
