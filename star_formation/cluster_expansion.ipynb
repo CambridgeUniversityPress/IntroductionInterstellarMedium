{
 "cells": [
  {
   "cell_type": "markdown",
   "metadata": {},
   "source": [
    "## Introduction to the Interstellar Medium\n",
    "### Jonathan Williams"
   ]
  },
  {
   "cell_type": "markdown",
   "metadata": {},
   "source": [
    "### Figure 9.10: plots the amount by which a cluster grows as gas is removed"
   ]
  },
  {
   "cell_type": "code",
   "execution_count": 1,
   "metadata": {},
   "outputs": [],
   "source": [
    "import numpy as np\n",
    "import matplotlib.pyplot as plt\n",
    "%matplotlib inline"
   ]
  },
  {
   "cell_type": "code",
   "execution_count": null,
   "metadata": {},
   "outputs": [],
   "source": [
    "eta = np.linspace(0.01,1,500)\n",
    "rfast = eta / (2*eta - 1)\n",
    "rfast[rfast < 0] = np.nan\n",
    "rslow = 1/eta\n",
    "\n",
    "fig = plt.figure(figsize=(6,4))\n",
    "ax = fig.add_subplot(111)\n",
    "\n",
    "ax.set_xlim(0, 100)\n",
    "ax.set_ylim(1, 100)\n",
    "ax.set_xlabel(r'SFE (%)', fontsize=14)\n",
    "ax.set_ylabel(r'$R_{\\rm final}/R_{\\rm initial}$', fontsize=14)\n",
    "ax.set_yscale('log')\n",
    "\n",
    "ax.plot(100*eta, rfast, color='black', lw=2, ls='-')\n",
    "ax.plot(100*eta, rslow, color='black', lw=2, ls='-')\n",
    "ax.plot([50,50], [1,100], color='black', lw=1, ls=':') \n",
    "ax.text(62, 3, 'fast', fontsize=12)\n",
    "ax.text(13, 9, 'slow', fontsize=12)\n",
    "\n",
    "x_labels = ['0','25','50', '75', '100']\n",
    "x_loc = np.array([float(x) for x in x_labels])\n",
    "ax.set_xticks(x_loc)\n",
    "ax.set_xticklabels(x_labels)\n",
    "y_labels = ['1','10','100']\n",
    "y_loc = np.array([float(y) for y in y_labels])\n",
    "ax.set_yticks(y_loc)\n",
    "ax.set_yticklabels(y_labels)\n",
    "\n",
    "fig.tight_layout()\n",
    "plt.savefig('cluster_expansion.pdf')"
   ]
  }
 ],
 "metadata": {
  "kernelspec": {
   "display_name": "Python 3",
   "language": "python",
   "name": "python3"
  },
  "language_info": {
   "codemirror_mode": {
    "name": "ipython",
    "version": 3
   },
   "file_extension": ".py",
   "mimetype": "text/x-python",
   "name": "python",
   "nbconvert_exporter": "python",
   "pygments_lexer": "ipython3",
   "version": "3.6.4"
  }
 },
 "nbformat": 4,
 "nbformat_minor": 4
}
