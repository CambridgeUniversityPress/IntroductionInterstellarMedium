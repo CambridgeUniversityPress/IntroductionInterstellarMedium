{
 "cells": [
  {
   "cell_type": "markdown",
   "metadata": {},
   "source": [
    "## Introduction to the Interstellar Medium\n",
    "### Jonathan Williams"
   ]
  },
  {
   "cell_type": "markdown",
   "metadata": {},
   "source": [
    "### Figure 9.8: plot a schematic IMF"
   ]
  },
  {
   "cell_type": "markdown",
   "metadata": {},
   "source": [
    "#### prescription from Chabrier 2003 Table 1 (https://ui.adsabs.harvard.edu/abs/2003PASP..115..763C/abstract)\n",
    "#### this is different - and more accurate - than the heuristic version in the book"
   ]
  },
  {
   "cell_type": "code",
   "execution_count": 5,
   "metadata": {},
   "outputs": [],
   "source": [
    "import numpy as np\n",
    "import matplotlib.pyplot as plt\n",
    "from scipy.ndimage.filters import gaussian_filter1d\n",
    "%matplotlib inline"
   ]
  },
  {
   "cell_type": "code",
   "execution_count": 6,
   "metadata": {},
   "outputs": [],
   "source": [
    "A1 = 0.158\n",
    "mc = 0.079\n",
    "sigma = 0.69\n",
    "A2 = 0.0443\n",
    "x = 1.3"
   ]
  },
  {
   "cell_type": "code",
   "execution_count": 7,
   "metadata": {},
   "outputs": [],
   "source": [
    "npts = 100\n",
    "m = np.logspace(-2.5,2.5,npts)\n",
    "xi = np.zeros(npts)\n",
    "i1 = m < 1\n",
    "xi[i1] = A1*np.exp(-(np.log10(m[i1])-np.log10(mc))**2/(2*sigma**2))\n",
    "xi[~i1] = A2*m[~i1]**(-x)\n",
    "xi /= xi.max()"
   ]
  },
  {
   "cell_type": "code",
   "execution_count": 8,
   "metadata": {},
   "outputs": [
    {
     "data": {
      "image/png": "[encoded data removed]",
      "text/plain": [
       "<Figure size 432x288 with 1 Axes>"
      ]
     },
     "metadata": {
      "needs_background": "light"
     },
     "output_type": "display_data"
    }
   ],
   "source": [
    "fig = plt.figure(figsize=(6,4))\n",
    "ax = fig.add_subplot(111)\n",
    "\n",
    "ax.set_xlim(0.01, 100)\n",
    "ax.set_ylim(1e-3, 2)\n",
    "ax.set_xlabel(r'$M\\ (M_\\odot)$', fontsize=14)\n",
    "ax.set_ylabel(r'$dN/d{\\rm ln}M$', fontsize=14)\n",
    "ax.set_xscale('log')\n",
    "ax.set_yscale('log')\n",
    "\n",
    "ax.plot(m, xi, color='black', lw=2, ls='-')\n",
    "\n",
    "fig.tight_layout(rect=[0.0,0.0,1.0,1.0]) \n",
    "plt.savefig('imf.pdf')"
   ]
  },
  {
   "cell_type": "code",
   "execution_count": null,
   "metadata": {},
   "outputs": [],
   "source": []
  }
 ],
 "metadata": {
  "kernelspec": {
   "display_name": "Python 3",
   "language": "python",
   "name": "python3"
  },
  "language_info": {
   "codemirror_mode": {
    "name": "ipython",
    "version": 3
   },
   "file_extension": ".py",
   "mimetype": "text/x-python",
   "name": "python",
   "nbconvert_exporter": "python",
   "pygments_lexer": "ipython3",
   "version": "3.8.3"
  }
 },
 "nbformat": 4,
 "nbformat_minor": 4
}
