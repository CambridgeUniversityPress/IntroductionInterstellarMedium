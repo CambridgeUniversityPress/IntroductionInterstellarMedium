{
 "cells": [
  {
   "cell_type": "markdown",
   "metadata": {},
   "source": [
    "## Introduction to the Interstellar Medium\n",
    "### Jonathan Williams"
   ]
  },
  {
   "cell_type": "markdown",
   "metadata": {},
   "source": [
    "### Figure 6.14: schematic of pulsar dispersion"
   ]
  },
  {
   "cell_type": "code",
   "execution_count": 1,
   "metadata": {},
   "outputs": [],
   "source": [
    "import numpy as np\n",
    "import matplotlib.pyplot as plt\n",
    "%matplotlib inline"
   ]
  },
  {
   "cell_type": "code",
   "execution_count": null,
   "metadata": {},
   "outputs": [],
   "source": [
    "fig = plt.figure(figsize=(6,4))\n",
    "ax1 = fig.add_subplot(1,1,1)\n",
    "\n",
    "ne = 1e4     # m-3\n",
    "d = 1000     # pc\n",
    "\n",
    "t = np.arange(-0.5,2.5,0.003)\n",
    "t0 = 1.0                              # period in sec\n",
    "sigma = 0.03\n",
    "pulse1 = lambda x: np.exp(-((t-x)/sigma)**2)\n",
    "pulse2 = lambda x: np.exp(-((t-t0-x)/sigma)**2)\n",
    "pulse3 = lambda x: np.exp(-((t-2*t0-x)/sigma)**2)\n",
    "\n",
    "for i in range(15):\n",
    "    nu = 0.4 + 0.1*i\n",
    "    dt = 4.14e-9 * ne * d / nu**2\n",
    "    pulse = pulse1(dt) + pulse2(dt) + pulse3(dt)\n",
    "    ax1.plot(t, i+2.5*pulse, color='k', lw=1)\n",
    "\n",
    "ax1.set_xlim(-0.4,2.4)\n",
    "ax1.set_ylim(-0.5,11.5)\n",
    "ax1.set_xlabel(r\"$t$ [s]\", fontsize=16)\n",
    "ax1.set_ylabel(r\"$\\nu$ [GHz]\", fontsize=16)\n",
    "\n",
    "y_labels = ['0.4','0.6','0.8', '1.0', '1.2', '1.4']\n",
    "y_loc = np.array([0, 2, 4, 6, 8, 10])\n",
    "ax1.set_yticks(y_loc)\n",
    "ax1.set_yticklabels(y_labels)\n",
    "\n",
    "fig.tight_layout()\n",
    "plt.savefig('pulsar.pdf')"
   ]
  }
 ],
 "metadata": {
  "kernelspec": {
   "display_name": "Python 3",
   "language": "python",
   "name": "python3"
  },
  "language_info": {
   "codemirror_mode": {
    "name": "ipython",
    "version": 3
   },
   "file_extension": ".py",
   "mimetype": "text/x-python",
   "name": "python",
   "nbconvert_exporter": "python",
   "pygments_lexer": "ipython3",
   "version": "3.6.4"
  }
 },
 "nbformat": 4,
 "nbformat_minor": 4
}
