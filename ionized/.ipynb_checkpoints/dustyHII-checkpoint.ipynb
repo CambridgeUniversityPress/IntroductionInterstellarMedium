{
 "cells": [
  {
   "cell_type": "markdown",
   "metadata": {},
   "source": [
    "## Introduction to the Interstellar Medium\n",
    "### Jonathan Williams"
   ]
  },
  {
   "cell_type": "markdown",
   "metadata": {},
   "source": [
    "### Figure 6.1: beautiful optical view of the Rosette HII region"
   ]
  },
  {
   "cell_type": "markdown",
   "metadata": {},
   "source": [
    "#### uses DSS fits files from skyview\n"
   ]
  },
  {
   "cell_type": "code",
   "execution_count": 3,
   "metadata": {},
   "outputs": [],
   "source": [
    "import numpy as np\n",
    "import matplotlib.pyplot as plt\n",
    "from astropy.io import fits\n",
    "from astropy.wcs import WCS\n",
    "%matplotlib inline"
   ]
  },
  {
   "cell_type": "code",
   "execution_count": null,
   "metadata": {},
   "outputs": [],
   "source": [
    "fig = plt.figure(figsize=(6,6))\n",
    "\n",
    "hdu = fits.open('rosette_DSS2_red.fits')\n",
    "wcs1 = WCS(hdu[0])\n",
    "ax1 = fig.add_subplot(111, projection=wcs1)\n",
    "im1 = hdu[0].data\n",
    "hd1 = hdu[0].header\n",
    "hdu.close()\n",
    "\n",
    "# manually crop image\n",
    "imin, imax = 120, 880\n",
    "jmin, jmax = 70, 830\n",
    "\n",
    "# manually set grayscale limits and a simple linear scale seems to work well\n",
    "#print(im1.min(),im1.max())\n",
    "ax1.imshow(im1[imin:imax, jmin:jmax], cmap='gray', origin='lower', vmin=5000, vmax=16000)\n",
    "\n",
    "for i in (0,1):\n",
    "    ax1.coords[i].set_ticks_visible(False)\n",
    "    ax1.coords[i].set_ticklabel_visible(False)\n",
    "    ax1.coords[i].set_ticks_visible(False)\n",
    "    ax1.coords[i].set_ticklabel_visible(False)\n",
    "    ax1.coords[i].set_axislabel('')\n",
    "    ax1.coords[i].set_axislabel('')\n",
    "ax1.text(0.05,0.93,r'$0.67\\,\\mu$m', {'color': 'w', 'fontsize': 18}, transform=ax1.transAxes)\n",
    "\n",
    "# scale bar\n",
    "ax1.set_xlim(0,imax-imin-1)\n",
    "ax1.set_ylim(0,jmax-jmin-1)\n",
    "dx = hd1['CDELT1']\n",
    "# 0.002 deg = 7.2 arcsec per pixel = 0.056 pc at 1.6 kpc\n",
    "xbar = 179\n",
    "x0 = 550\n",
    "x1 = x0 + xbar\n",
    "y0 = 30\n",
    "dy = 5\n",
    "ax1.plot([x0,x1],[y0,y0], 'w-', lw=2)\n",
    "ax1.plot([x0,x0],[y0-dy,y0+dy], 'w-', lw=2)\n",
    "ax1.plot([x1,x1],[y0-dy,y0+dy], 'w-', lw=2)\n",
    "ax1.text(0.5*(x0+x1), y0+2*dy, '10 pc', color='white', fontsize=14, ha='center')\n",
    "\n",
    "plt.tight_layout()\n",
    "plt.savefig('rosette.pdf')"
   ]
  },
  {
   "cell_type": "code",
   "execution_count": null,
   "metadata": {},
   "outputs": [],
   "source": []
  }
 ],
 "metadata": {
  "kernelspec": {
   "display_name": "Python 3",
   "language": "python",
   "name": "python3"
  },
  "language_info": {
   "codemirror_mode": {
    "name": "ipython",
    "version": 3
   },
   "file_extension": ".py",
   "mimetype": "text/x-python",
   "name": "python",
   "nbconvert_exporter": "python",
   "pygments_lexer": "ipython3",
   "version": "3.6.4"
  }
 },
 "nbformat": 4,
 "nbformat_minor": 4
}
