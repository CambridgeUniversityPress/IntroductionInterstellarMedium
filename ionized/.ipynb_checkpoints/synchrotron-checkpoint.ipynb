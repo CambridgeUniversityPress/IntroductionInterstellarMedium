{
 "cells": [
  {
   "cell_type": "markdown",
   "metadata": {},
   "source": [
    "## Introduction to the Interstellar Medium\n",
    "### Jonathan Williams"
   ]
  },
  {
   "cell_type": "markdown",
   "metadata": {},
   "source": [
    "### Figure 6.6: plot synchrotron SED"
   ]
  },
  {
   "cell_type": "code",
   "execution_count": 6,
   "metadata": {},
   "outputs": [],
   "source": [
    "import numpy as np\n",
    "import matplotlib.pyplot as plt\n",
    "import matplotlib as mpl\n",
    "%matplotlib inline"
   ]
  },
  {
   "cell_type": "code",
   "execution_count": 7,
   "metadata": {},
   "outputs": [],
   "source": [
    "def synchrotron(nu_scaled, p, F0):\n",
    "    # calculate synchrotron flux density for nu in Hz\n",
    "    # p   = power law index of N(E)\n",
    "    # nu0 = turnover frequency (Hz)\n",
    "    # F0  = flux at turnover frequency (Jy)\n",
    "    p_thin = -(p-1)/2\n",
    "    p_tau= p/2 + 2\n",
    "    pseudo_tau = nu_scaled**p_tau\n",
    "    return(F0 * (1-exp(-pseudo_tau)) * nu_scaled**p_thin)"
   ]
  },
  {
   "cell_type": "code",
   "execution_count": 8,
   "metadata": {},
   "outputs": [],
   "source": [
    "# set up the frequency range, same as for the Bremsstrahlung SED plots\n",
    "nsteps = 100\n",
    "lnu_min = 6.0\n",
    "lnu_max = 15.5\n",
    "dlnu = (lnu_max - lnu_min)/nsteps\n",
    "lnu = np.arange(lnu_min,lnu_max,dlnu)"
   ]
  },
  {
   "cell_type": "code",
   "execution_count": 11,
   "metadata": {},
   "outputs": [
    {
     "data": {
      "image/png": "[encoded data removed]",
      "text/plain": [
       "<Figure size 432x288 with 2 Axes>"
      ]
     },
     "metadata": {},
     "output_type": "display_data"
    }
   ],
   "source": [
    "fig = plt.figure(figsize=(6,4))\n",
    "ax1 = fig.add_subplot(1,1,1)\n",
    "ax1.set_xlabel(\"log$_{10}$[$\\\\nu$ (Hz)]\", fontsize=16)\n",
    "ax1.set_ylabel(\"log$_{10}$[$F_\\\\nu$ (Jy)]\", fontsize=16)\n",
    "\n",
    "# scale nu so peak is 1 GHz\n",
    "# p = 2.5\n",
    "F_nu = synchrotron(10**(lnu-9), 2.5, 10.0)\n",
    "ax1.plot(lnu, np.log10(F_nu), 'k-', lw=3)\n",
    "\n",
    "ax2 = ax1.twiny()\n",
    "logwave = np.log10(3e8) - lnu\n",
    "ax2.plot(logwave,logwave*0+999)\n",
    "ax2.set_xlabel('log$_{10}$[$\\\\lambda$ (m)]', fontsize=16)\n",
    "\n",
    "x1 = 5.5\n",
    "x2 = 15.5\n",
    "x1u = np.log10(3e8) - x1\n",
    "x2u = np.log10(3e8) - x2\n",
    "\n",
    "x_labels = ['6','7','8','9','10','11','12','13','14','15']\n",
    "x_loc = np.array([float(x) for x in x_labels])\n",
    "ax1.set_xticks(x_loc)\n",
    "ax1.set_xticklabels(x_labels)\n",
    "ax1.set_xlim(x1,x2)\n",
    "\n",
    "y_labels = ['-2','-1','0','1']\n",
    "y_loc = np.array([float(y) for y in y_labels])\n",
    "ax1.set_yticks(y_loc)\n",
    "ax1.set_yticklabels(y_labels)\n",
    "\n",
    "x_labels = ['2','1','0','-1','-2','-3','-4','-5','-6']\n",
    "x_loc = np.array([float(x) for x in x_labels])\n",
    "ax2.set_xticks(x_loc)\n",
    "ax2.set_xticklabels(x_labels)\n",
    "ax2.set_xlim(x1u,x2u)\n",
    "ax2.set_ylim(-2,1.5)\n",
    "\n",
    "fig.tight_layout() \n",
    "plt.savefig('synchrotron.pdf')"
   ]
  },
  {
   "cell_type": "code",
   "execution_count": null,
   "metadata": {},
   "outputs": [],
   "source": []
  }
 ],
 "metadata": {
  "kernelspec": {
   "display_name": "Python 3",
   "language": "python",
   "name": "python3"
  },
  "language_info": {
   "codemirror_mode": {
    "name": "ipython",
    "version": 3
   },
   "file_extension": ".py",
   "mimetype": "text/x-python",
   "name": "python",
   "nbconvert_exporter": "python",
   "pygments_lexer": "ipython3",
   "version": "3.6.4"
  }
 },
 "nbformat": 4,
 "nbformat_minor": 4
}
