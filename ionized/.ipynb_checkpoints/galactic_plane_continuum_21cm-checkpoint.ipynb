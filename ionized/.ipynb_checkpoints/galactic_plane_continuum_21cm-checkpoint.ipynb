{
 "cells": [
  {
   "cell_type": "markdown",
   "metadata": {},
   "source": [
    "## Introduction to the Interstellar Medium\n",
    "### Jonathan Williams"
   ]
  },
  {
   "cell_type": "markdown",
   "metadata": {},
   "source": [
    "### Figure 6.4: plot Bremsstrahlung SED"
   ]
  },
  {
   "cell_type": "code",
   "execution_count": 3,
   "metadata": {},
   "outputs": [],
   "source": [
    "import numpy as np\n",
    "import matplotlib.pyplot as plt\n",
    "import numpy as np\n",
    "import matplotlib.pyplot as plt\n",
    "from planck import *\n",
    "%matplotlib inline"
   ]
  },
  {
   "cell_type": "code",
   "execution_count": null,
   "metadata": {},
   "outputs": [],
   "source": [
    "def brem(lnu,T,EM,theta):\n",
    "    nu_GHz = 10**(lnu-9)\n",
    "    tau = 0.08235 * nu_GHz**(-2.1) * T**(-1.35) * EM     # cgs\n",
    "    Omega = np.pi * (theta/57.3)**2\n",
    "    Jy = 1e-23\n",
    "    ftau = 1 - exp(-tau)\n",
    "    lotau = tau < 1e-10 \n",
    "    ftau[lotau] = tau[lotau]\n",
    "    #return(planck_nu(1e9*nu_GHz,T).cgs.value * (1-exp(-tau)) * Omega / Jy)\n",
    "    return(planck_nu(1e9*nu_GHz,T).cgs.value * ftau * Omega / Jy)"
   ]
  },
  {
   "cell_type": "code",
   "execution_count": null,
   "metadata": {},
   "outputs": [],
   "source": [
    "def brem(lnu, T, EM, theta):\n",
    "    nu_GHz = 10**(lnu-9)\n",
    "    tau = 0.08235 * nu_GHz**(-2.1) * T**(-1.35) * EM   # cgs\n",
    "    Omega = np.pi * (theta/57.3)**2\n",
    "    Jy = 1e-23\n",
    "    return(planck_nu(1e9*nu_GHz,T).cgs.value * (1-exp(-tau)) * Omega / Jy)"
   ]
  },
  {
   "cell_type": "code",
   "execution_count": null,
   "metadata": {},
   "outputs": [],
   "source": [
    "nsteps = 100\n",
    "lnu_min = 6.0\n",
    "lnu_max = 15.5\n",
    "dlnu = (lnu_max - lnu_min)/nsteps\n",
    "lnu = np.arange(lnu_min,lnu_max,dlnu)\n",
    "\n",
    "fig = plt.figure(figsize=(6,4))\n",
    "ax1 = fig.add_subplot(1,1,1)\n",
    "ax1.set_xlabel(\"log$_{10}$[$\\\\nu$ (Hz)]\", fontsize=16)\n",
    "ax1.set_ylabel(\"log$_{10}$[$F_\\\\nu$ (Jy)]\", fontsize=16)\n",
    "\n",
    "T = 1e4       # K\n",
    "EM = 5e3      # cm-6 pc  = fiducial Rosette with n_e=10cm-3, Rs=25pc\n",
    "theta = 0.7   # deg\n",
    "F_nu = brem(lnu,T,EM,theta)\n",
    "#ax1.plot(lnu, np.log10(F_nu), 'b-', lw=3)\n",
    "ax1.plot(lnu, np.log10(F_nu), 'k-', lw=3)\n",
    "\n",
    "ax2 = ax1.twiny()\n",
    "logwave = np.log10(3e8) - lnu\n",
    "ax2.plot(logwave,logwave*0+999)\n",
    "ax2.set_xlabel('log$_{10}$[$\\\\lambda$ (m)]', fontsize=16)\n",
    "\n",
    "# unicode character for upwards arrow\n",
    "arrow = u'$\\u2191$'\n",
    "ax2.plot(0.5, 2, color='k', marker=arrow, markersize=20, alpha=0.3)\n",
    "\n",
    "x1 = 5.5\n",
    "x2 = 15.5\n",
    "x1u = np.log10(3e8) - x1\n",
    "x2u = np.log10(3e8) - x2\n",
    "\n",
    "x_labels = ['6','7','8','9','10','11','12','13','14','15']\n",
    "x_loc = np.array([float(x) for x in x_labels])\n",
    "ax1.set_xticks(x_loc)\n",
    "ax1.set_xticklabels(x_labels)\n",
    "ax1.set_xlim(x1,x2)\n",
    "\n",
    "y_labels = ['0','1','2','3']\n",
    "y_loc = np.array([float(y) for y in y_labels])\n",
    "ax1.set_yticks(y_loc)\n",
    "ax1.set_yticklabels(y_labels)\n",
    "\n",
    "x_labels = ['2','1','0','-1','-2','-3','-4','-5','-6']\n",
    "x_loc = np.array([float(x) for x in x_labels])\n",
    "ax2.set_xticks(x_loc)\n",
    "ax2.set_xticklabels(x_labels)\n",
    "ax2.set_xlim(x1u,x2u)\n",
    "ax2.set_ylim(0,3)\n",
    "\n",
    "fig.tight_layout(rect=[0.0,0.0,1.0,1.0]) \n",
    "plt.savefig('bremsstrahlung.pdf')"
   ]
  },
  {
   "cell_type": "code",
   "execution_count": null,
   "metadata": {},
   "outputs": [],
   "source": []
  }
 ],
 "metadata": {
  "kernelspec": {
   "display_name": "Python 3",
   "language": "python",
   "name": "python3"
  },
  "language_info": {
   "codemirror_mode": {
    "name": "ipython",
    "version": 3
   },
   "file_extension": ".py",
   "mimetype": "text/x-python",
   "name": "python",
   "nbconvert_exporter": "python",
   "pygments_lexer": "ipython3",
   "version": "3.6.4"
  }
 },
 "nbformat": 4,
 "nbformat_minor": 4
}
