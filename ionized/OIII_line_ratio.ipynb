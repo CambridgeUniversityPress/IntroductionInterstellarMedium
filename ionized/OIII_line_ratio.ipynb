{
 "cells": [
  {
   "cell_type": "markdown",
   "metadata": {},
   "source": [
    "## Introduction to the Interstellar Medium\n",
    "### Jonathan Williams"
   ]
  },
  {
   "cell_type": "markdown",
   "metadata": {},
   "source": [
    "### Figure 6.13: line ratio of OIII as a function of electron temperature"
   ]
  },
  {
   "cell_type": "code",
   "execution_count": 1,
   "metadata": {},
   "outputs": [],
   "source": [
    "import numpy as np\n",
    "import matplotlib.pyplot as plt\n",
    "%matplotlib inline"
   ]
  },
  {
   "cell_type": "code",
   "execution_count": 2,
   "metadata": {},
   "outputs": [],
   "source": [
    "# descriptors of the OIII energy levels\n",
    "Omega12 = 2.17\n",
    "Omega13 = 0.28\n",
    "A31 = 0.22\n",
    "A32 = 1.8\n",
    "dE32 = 3.30e4\n",
    "lambda21 = 500.7\n",
    "lambda32 = 436.3"
   ]
  },
  {
   "cell_type": "code",
   "execution_count": 3,
   "metadata": {},
   "outputs": [
    {
     "data": {
      "image/png": "[encoded data removed]",
      "text/plain": [
       "<Figure size 432x288 with 1 Axes>"
      ]
     },
     "metadata": {},
     "output_type": "display_data"
    }
   ],
   "source": [
    "# temperature in K\n",
    "x = np.arange(4,13,0.1)*1e3\n",
    "\n",
    "# collisional cross-section ratio\n",
    "gamma_ratio = (Omega12/Omega13) * np.exp(dE32/x)\n",
    "\n",
    "# line ratio\n",
    "y = (1 + (1 + A31/A32) * gamma_ratio) * lambda32/lambda21\n",
    "\n",
    "fig = plt.figure(figsize=(6,4))\n",
    "ax = fig.add_subplot(111)\n",
    "\n",
    "ax.set_xlim(5500,12500)\n",
    "ax.set_ylim(7e1,5e3)\n",
    "ax.set_yscale('log')\n",
    "ax.set_xlabel(r'$T_e\\ {\\rm (K)}$', fontsize=14)\n",
    "ax.set_ylabel(r'$(I_{500.7}+I_{495.8})/I_{436.3}$', fontsize=14)\n",
    "ax.plot(x, y, 'k-', lw=3)\n",
    "\n",
    "y_labels = ['100','300','1000','3000']\n",
    "y_loc = np.array([float(y) for y in y_labels])\n",
    "ax.set_yticks(y_loc)\n",
    "ax.set_yticklabels(y_labels)\n",
    "\n",
    "fig.tight_layout()\n",
    "plt.savefig('OIII_line_ratio.pdf')"
   ]
  },
  {
   "cell_type": "code",
   "execution_count": null,
   "metadata": {},
   "outputs": [],
   "source": []
  }
 ],
 "metadata": {
  "kernelspec": {
   "display_name": "Python 3",
   "language": "python",
   "name": "python3"
  },
  "language_info": {
   "codemirror_mode": {
    "name": "ipython",
    "version": 3
   },
   "file_extension": ".py",
   "mimetype": "text/x-python",
   "name": "python",
   "nbconvert_exporter": "python",
   "pygments_lexer": "ipython3",
   "version": "3.6.4"
  }
 },
 "nbformat": 4,
 "nbformat_minor": 4
}
